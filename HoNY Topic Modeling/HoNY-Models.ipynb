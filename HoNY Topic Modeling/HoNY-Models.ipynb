{
 "cells": [
  {
   "cell_type": "markdown",
   "metadata": {},
   "source": [
    "# Connecting Community Dischord and Topics"
   ]
  },
  {
   "cell_type": "code",
   "execution_count": 47,
   "metadata": {
    "collapsed": false
   },
   "outputs": [],
   "source": [
    "import pandas as pd\n",
    "import matplotlib.pyplot as plt\n",
    "import seaborn as sns\n",
    "from sklearn.feature_extraction.text import CountVectorizer, TfidfVectorizer\n",
    "from sklearn.naive_bayes import MultinomialNB\n",
    "from sklearn.linear_model import LogisticRegression\n",
    "from sklearn import metrics\n",
    "from textblob import TextBlob, Word\n",
    "from nltk.stem.snowball import SnowballStemmer\n",
    "from sklearn.cluster import DBSCAN\n",
    "import numpy as np\n",
    "from gensim.corpora import Dictionary, MmCorpus\n",
    "from gensim.models.ldamulticore import LdaMulticore\n",
    "import pyLDAvis\n",
    "import pyLDAvis.gensim\n",
    "import warnings\n",
    "import cPickle as pickle\n",
    "import json\n",
    "import itertools as it\n",
    "import os\n",
    "from gensim.models import Phrases\n",
    "from sklearn.cross_validation import train_test_split\n",
    "from gensim.models.word2vec import LineSentence\n",
    "import codecs\n",
    "import spacy\n",
    "import re\n",
    "%matplotlib inline"
   ]
  },
  {
   "cell_type": "code",
   "execution_count": 2,
   "metadata": {
    "collapsed": false
   },
   "outputs": [],
   "source": [
    "# #Comments were downloaded from different times. Hence the multiple files.\n",
    "df1 = pd.read_csv('humansofnewyork_facebook_comments+part+1.csv')\n",
    "df2 = pd.read_csv('humansofnewyork_facebook_comments+part+2.csv')\n",
    "df3 = pd.read_csv('humansofnewyork_facebook_comments+part+3.csv')\n",
    "df4 = pd.read_csv('humansofnewyork_facebook_comments+part+4.csv')\n",
    "df5 = pd.read_csv('humansofnewyork_facebook_comments+part+5.csv')"
   ]
  },
  {
   "cell_type": "code",
   "execution_count": 3,
   "metadata": {
    "collapsed": true
   },
   "outputs": [],
   "source": [
    "df = pd.concat([df1,df2,df3,df4,df5], axis = 0)\n",
    "df.drop_duplicates(inplace = True)"
   ]
  },
  {
   "cell_type": "code",
   "execution_count": 4,
   "metadata": {
    "collapsed": false
   },
   "outputs": [
    {
     "name": "stdout",
     "output_type": "stream",
     "text": [
      "0.00576093371116\n"
     ]
    }
   ],
   "source": [
    "#Drop null comments, which only make up a 0.57% of the data\n",
    "print df.comment_message.isnull().sum()/(1.0*len(df))\n",
    "df.dropna(subset = ['comment_message'],inplace = True)\n",
    "df.reset_index(inplace = True, drop = True)"
   ]
  },
  {
   "cell_type": "code",
   "execution_count": 5,
   "metadata": {
    "collapsed": false
   },
   "outputs": [
    {
     "data": {
      "text/html": [
       "<div>\n",
       "<table border=\"1\" class=\"dataframe\">\n",
       "  <thead>\n",
       "    <tr style=\"text-align: right;\">\n",
       "      <th></th>\n",
       "      <th>comment_id</th>\n",
       "      <th>status_id</th>\n",
       "      <th>parent_id</th>\n",
       "      <th>comment_message</th>\n",
       "      <th>comment_author</th>\n",
       "      <th>comment_published</th>\n",
       "      <th>comment_likes</th>\n",
       "    </tr>\n",
       "  </thead>\n",
       "  <tbody>\n",
       "    <tr>\n",
       "      <th>0</th>\n",
       "      <td>1403321913075238_1403322236408539</td>\n",
       "      <td>102099916530784_1403321913075238</td>\n",
       "      <td>NaN</td>\n",
       "      <td>First!</td>\n",
       "      <td>Kay E. Kensington</td>\n",
       "      <td>2016-10-14 17:54:29</td>\n",
       "      <td>14.0</td>\n",
       "    </tr>\n",
       "    <tr>\n",
       "      <th>1</th>\n",
       "      <td>1403321913075238_1403322469741849</td>\n",
       "      <td>102099916530784_1403321913075238</td>\n",
       "      <td>1403321913075238_1403322236408539</td>\n",
       "      <td>*claps*</td>\n",
       "      <td>Adam Mercer</td>\n",
       "      <td>2016-10-14 17:55:02</td>\n",
       "      <td>8.0</td>\n",
       "    </tr>\n",
       "    <tr>\n",
       "      <th>2</th>\n",
       "      <td>1403321913075238_1403322739741822</td>\n",
       "      <td>102099916530784_1403321913075238</td>\n",
       "      <td>1403321913075238_1403322236408539</td>\n",
       "      <td>I am.</td>\n",
       "      <td>Feras Mahmoud Ataya</td>\n",
       "      <td>2016-10-14 17:55:21</td>\n",
       "      <td>0.0</td>\n",
       "    </tr>\n",
       "    <tr>\n",
       "      <th>3</th>\n",
       "      <td>1403321913075238_1113308078717724</td>\n",
       "      <td>102099916530784_1403321913075238</td>\n",
       "      <td>1403321913075238_1403322236408539</td>\n",
       "      <td>Nope</td>\n",
       "      <td>Carl Sustrich</td>\n",
       "      <td>2016-10-14 17:55:24</td>\n",
       "      <td>0.0</td>\n",
       "    </tr>\n",
       "    <tr>\n",
       "      <th>4</th>\n",
       "      <td>1403321913075238_1156069464481151</td>\n",
       "      <td>102099916530784_1403321913075238</td>\n",
       "      <td>1403321913075238_1403322236408539</td>\n",
       "      <td>Fail!</td>\n",
       "      <td>John Amin Love Joyea</td>\n",
       "      <td>2016-10-14 17:56:05</td>\n",
       "      <td>0.0</td>\n",
       "    </tr>\n",
       "  </tbody>\n",
       "</table>\n",
       "</div>"
      ],
      "text/plain": [
       "                          comment_id                         status_id  \\\n",
       "0  1403321913075238_1403322236408539  102099916530784_1403321913075238   \n",
       "1  1403321913075238_1403322469741849  102099916530784_1403321913075238   \n",
       "2  1403321913075238_1403322739741822  102099916530784_1403321913075238   \n",
       "3  1403321913075238_1113308078717724  102099916530784_1403321913075238   \n",
       "4  1403321913075238_1156069464481151  102099916530784_1403321913075238   \n",
       "\n",
       "                           parent_id comment_message        comment_author  \\\n",
       "0                                NaN          First!     Kay E. Kensington   \n",
       "1  1403321913075238_1403322236408539         *claps*           Adam Mercer   \n",
       "2  1403321913075238_1403322236408539           I am.   Feras Mahmoud Ataya   \n",
       "3  1403321913075238_1403322236408539            Nope         Carl Sustrich   \n",
       "4  1403321913075238_1403322236408539           Fail!  John Amin Love Joyea   \n",
       "\n",
       "     comment_published  comment_likes  \n",
       "0  2016-10-14 17:54:29           14.0  \n",
       "1  2016-10-14 17:55:02            8.0  \n",
       "2  2016-10-14 17:55:21            0.0  \n",
       "3  2016-10-14 17:55:24            0.0  \n",
       "4  2016-10-14 17:56:05            0.0  "
      ]
     },
     "execution_count": 5,
     "metadata": {},
     "output_type": "execute_result"
    }
   ],
   "source": [
    "df.head()"
   ]
  },
  {
   "cell_type": "code",
   "execution_count": 5,
   "metadata": {
    "collapsed": false
   },
   "outputs": [],
   "source": [
    "#Removes emojis in order to run sentiment analysis\n",
    "df['comment_message_clean'] = df.comment_message.apply(lambda x: re.sub(r'[^\\w.,!@#$%^&*();\\/|<>+-]',' ', str(x)))"
   ]
  },
  {
   "cell_type": "code",
   "execution_count": 6,
   "metadata": {
    "collapsed": false
   },
   "outputs": [],
   "source": [
    "#Create sentiment analysis from the cleaned comments\n",
    "df['comment_sentiment'] = df.comment_message_clean.apply(lambda x:TextBlob(x).sentiment.polarity)"
   ]
  },
  {
   "cell_type": "markdown",
   "metadata": {},
   "source": [
    "### Argument Detection"
   ]
  },
  {
   "cell_type": "code",
   "execution_count": 7,
   "metadata": {
    "collapsed": false
   },
   "outputs": [],
   "source": [
    "#My hypothesis is that long reply chains are a proxy for arguments \n",
    "#Status ID corresponds to posts, while Parent ID corresponds to the initial comment which subsequent replies are attached\n",
    "#We are counting the number of replies in a conversation chain\n",
    "arguments = pd.DataFrame(df.groupby(['status_id','parent_id']).comment_id.count())\n",
    "arguments.reset_index(inplace = True)\n",
    "arguments.rename(columns = {'comment_id':'replies'}, inplace = True)"
   ]
  },
  {
   "cell_type": "code",
   "execution_count": 11,
   "metadata": {
    "collapsed": false
   },
   "outputs": [
    {
     "data": {
      "text/html": [
       "<div>\n",
       "<table border=\"1\" class=\"dataframe\">\n",
       "  <thead>\n",
       "    <tr style=\"text-align: right;\">\n",
       "      <th></th>\n",
       "      <th>status_id</th>\n",
       "      <th>parent_id</th>\n",
       "      <th>replies</th>\n",
       "    </tr>\n",
       "  </thead>\n",
       "  <tbody>\n",
       "    <tr>\n",
       "      <th>0</th>\n",
       "      <td>102099916530784_1157449734329125</td>\n",
       "      <td>1157449734329125_1157450264329072</td>\n",
       "      <td>1</td>\n",
       "    </tr>\n",
       "    <tr>\n",
       "      <th>1</th>\n",
       "      <td>102099916530784_1157449734329125</td>\n",
       "      <td>1157449734329125_1157450417662390</td>\n",
       "      <td>2</td>\n",
       "    </tr>\n",
       "    <tr>\n",
       "      <th>2</th>\n",
       "      <td>102099916530784_1157449734329125</td>\n",
       "      <td>1157449734329125_1157450424329056</td>\n",
       "      <td>1</td>\n",
       "    </tr>\n",
       "    <tr>\n",
       "      <th>3</th>\n",
       "      <td>102099916530784_1157449734329125</td>\n",
       "      <td>1157449734329125_1157450450995720</td>\n",
       "      <td>3</td>\n",
       "    </tr>\n",
       "    <tr>\n",
       "      <th>4</th>\n",
       "      <td>102099916530784_1157449734329125</td>\n",
       "      <td>1157449734329125_1157450464329052</td>\n",
       "      <td>2</td>\n",
       "    </tr>\n",
       "  </tbody>\n",
       "</table>\n",
       "</div>"
      ],
      "text/plain": [
       "                          status_id                          parent_id  \\\n",
       "0  102099916530784_1157449734329125  1157449734329125_1157450264329072   \n",
       "1  102099916530784_1157449734329125  1157449734329125_1157450417662390   \n",
       "2  102099916530784_1157449734329125  1157449734329125_1157450424329056   \n",
       "3  102099916530784_1157449734329125  1157449734329125_1157450450995720   \n",
       "4  102099916530784_1157449734329125  1157449734329125_1157450464329052   \n",
       "\n",
       "   replies  \n",
       "0        1  \n",
       "1        2  \n",
       "2        1  \n",
       "3        3  \n",
       "4        2  "
      ]
     },
     "execution_count": 11,
     "metadata": {},
     "output_type": "execute_result"
    }
   ],
   "source": [
    "arguments.head()"
   ]
  },
  {
   "cell_type": "markdown",
   "metadata": {},
   "source": [
    "### Comment Tokenization and Filtering"
   ]
  },
  {
   "cell_type": "code",
   "execution_count": 8,
   "metadata": {
    "collapsed": false
   },
   "outputs": [],
   "source": [
    "#Process had to broken into several parts as running the 2.7M rows together creates a memory error\n",
    "#Only used unigrams for simplicity. There weren't many bigrams or trigrams found during topic exploration\n",
    "vect = CountVectorizer(ngram_range = (1,1), stop_words = 'english')\n",
    "comment_features1 = pd.DataFrame(vect.fit_transform(df.comment_message_clean[0:250000]).toarray(), columns=vect.get_feature_names())"
   ]
  },
  {
   "cell_type": "code",
   "execution_count": 9,
   "metadata": {
    "collapsed": true
   },
   "outputs": [],
   "source": [
    "comment_features2 = pd.DataFrame(vect.fit_transform(df.comment_message_clean[250000:500000]).toarray(), columns=vect.get_feature_names())"
   ]
  },
  {
   "cell_type": "code",
   "execution_count": 10,
   "metadata": {
    "collapsed": true
   },
   "outputs": [],
   "source": [
    "comment_features3 = pd.DataFrame(vect.fit_transform(df.comment_message_clean[500000:750000]).toarray(), columns=vect.get_feature_names())"
   ]
  },
  {
   "cell_type": "code",
   "execution_count": 11,
   "metadata": {
    "collapsed": true
   },
   "outputs": [],
   "source": [
    "comment_features4 = pd.DataFrame(vect.fit_transform(df.comment_message_clean[750000:1000000]).toarray(), columns=vect.get_feature_names())"
   ]
  },
  {
   "cell_type": "code",
   "execution_count": 12,
   "metadata": {
    "collapsed": true
   },
   "outputs": [],
   "source": [
    "comment_features5 = pd.DataFrame(vect.fit_transform(df.comment_message_clean[1000000:1250000]).toarray(), columns=vect.get_feature_names())"
   ]
  },
  {
   "cell_type": "code",
   "execution_count": 13,
   "metadata": {
    "collapsed": true
   },
   "outputs": [],
   "source": [
    "comment_features6 = pd.DataFrame(vect.fit_transform(df.comment_message_clean[1250000:1500000]).toarray(), columns=vect.get_feature_names())"
   ]
  },
  {
   "cell_type": "code",
   "execution_count": 14,
   "metadata": {
    "collapsed": true
   },
   "outputs": [],
   "source": [
    "comment_features7 = pd.DataFrame(vect.fit_transform(df.comment_message_clean[1500000:1750000]).toarray(), columns=vect.get_feature_names())"
   ]
  },
  {
   "cell_type": "code",
   "execution_count": 15,
   "metadata": {
    "collapsed": true
   },
   "outputs": [],
   "source": [
    "comment_features8 = pd.DataFrame(vect.fit_transform(df.comment_message_clean[1750000:2000000]).toarray(), columns=vect.get_feature_names())"
   ]
  },
  {
   "cell_type": "code",
   "execution_count": 16,
   "metadata": {
    "collapsed": true
   },
   "outputs": [],
   "source": [
    "comment_features9 = pd.DataFrame(vect.fit_transform(df.comment_message_clean[2000000:2250000]).toarray(), columns=vect.get_feature_names())"
   ]
  },
  {
   "cell_type": "code",
   "execution_count": 20,
   "metadata": {
    "collapsed": false
   },
   "outputs": [],
   "source": [
    "comment_features10 = pd.DataFrame(vect.fit_transform(df.comment_message_clean[2250000:2400000]).toarray(), columns=vect.get_feature_names())"
   ]
  },
  {
   "cell_type": "code",
   "execution_count": 18,
   "metadata": {
    "collapsed": true
   },
   "outputs": [],
   "source": [
    "comment_features11 = pd.DataFrame(vect.fit_transform(df.comment_message_clean[2500000:]).toarray(), columns=vect.get_feature_names())"
   ]
  },
  {
   "cell_type": "code",
   "execution_count": 19,
   "metadata": {
    "collapsed": true
   },
   "outputs": [],
   "source": [
    "comment_features12 = pd.DataFrame(vect.fit_transform(df.comment_message_clean[2400000:2500000]).toarray(), columns=vect.get_feature_names())"
   ]
  },
  {
   "cell_type": "code",
   "execution_count": 155,
   "metadata": {
    "collapsed": true
   },
   "outputs": [],
   "source": [
    "#Create topic lists from the LDA analysis of the comments\n",
    "#From exploratory data analysis, I deduced the below general comment topics with the corresponding keywords\n",
    "school = ['student', 'learn', 'year', 'school', 'father', 'daughter', 'husband', 'age', 'college', 'young', 'chance', 'lesson', 'skill', 'teacher', 'program', 'achieve', 'degree', 'education','educator', 'key','complete', 'graduate', 'teach', 'opportunity']\n",
    "change = ['need', 'world', 'help', 'change', 'fight', 'core', 'ability', 'grow', 'better', 'accomplish', 'succeed','travel', 'accept', 'seek', 'desire', 'forgiveness', 'fate', 'care']\n",
    "political = ['people', 'war', 'kill', 'bad', 'america', 'issue', 'blame', 'action', 'fact', 'government', 'hurt', 'fix', 'victim', 'murder', 'treat', 'negative', 'innocent', 'poverty', 'trouble', 'politician', 'tired', 'trauma']\n",
    "close_relationships = ['kid', 'child', 'marriage', 'teacher', 'parent', 'dad', 'raise', 'wife', 'mom', 'father','mother', 'father','brother', 'sister', 'son', 'daughter']\n",
    "work = ['work', 'hard','employee', 'manager']\n",
    "money = ['poor', 'pay', 'rich', 'price']\n",
    "religion = ['god','church', 'bible', 'right', 'hope', 'amazing', 'soul', 'grace', 'union', 'bless', 'jesus', 'religion']\n",
    "health = ['doctor', 'health', 'mental', 'illness', 'tumor', 'nurse', 'surgery', 'cancer', 'medication', 'disease']\n",
    "\n",
    "#Combine the topics together to be used to filter the tokens\n",
    "comprehensive = school + change + political + money + close_relationships + work + religion + health"
   ]
  },
  {
   "cell_type": "code",
   "execution_count": 22,
   "metadata": {
    "collapsed": false
   },
   "outputs": [],
   "source": [
    "#Apply the topics keywords to the tokens\n",
    "all_features1 = comment_features1[comprehensive]"
   ]
  },
  {
   "cell_type": "code",
   "execution_count": 23,
   "metadata": {
    "collapsed": true
   },
   "outputs": [],
   "source": [
    "all_features2 = comment_features2[comprehensive]"
   ]
  },
  {
   "cell_type": "code",
   "execution_count": 24,
   "metadata": {
    "collapsed": true
   },
   "outputs": [],
   "source": [
    "all_features3 = comment_features3[comprehensive]"
   ]
  },
  {
   "cell_type": "code",
   "execution_count": 25,
   "metadata": {
    "collapsed": true
   },
   "outputs": [],
   "source": [
    "all_features4 = comment_features4[comprehensive]"
   ]
  },
  {
   "cell_type": "code",
   "execution_count": 26,
   "metadata": {
    "collapsed": true
   },
   "outputs": [],
   "source": [
    "all_features5 = comment_features5[comprehensive]"
   ]
  },
  {
   "cell_type": "code",
   "execution_count": 27,
   "metadata": {
    "collapsed": true
   },
   "outputs": [],
   "source": [
    "all_features6 = comment_features6[comprehensive]"
   ]
  },
  {
   "cell_type": "code",
   "execution_count": 29,
   "metadata": {
    "collapsed": false
   },
   "outputs": [],
   "source": [
    "all_features7 = comment_features7[comprehensive]"
   ]
  },
  {
   "cell_type": "code",
   "execution_count": 30,
   "metadata": {
    "collapsed": true
   },
   "outputs": [],
   "source": [
    "all_features8 = comment_features8[comprehensive]"
   ]
  },
  {
   "cell_type": "code",
   "execution_count": 31,
   "metadata": {
    "collapsed": true
   },
   "outputs": [],
   "source": [
    "all_features9 = comment_features9[comprehensive]"
   ]
  },
  {
   "cell_type": "code",
   "execution_count": 32,
   "metadata": {
    "collapsed": true
   },
   "outputs": [],
   "source": [
    "all_features10 = comment_features10[comprehensive]"
   ]
  },
  {
   "cell_type": "code",
   "execution_count": 33,
   "metadata": {
    "collapsed": true
   },
   "outputs": [],
   "source": [
    "all_features11 = comment_features11[comprehensive]"
   ]
  },
  {
   "cell_type": "code",
   "execution_count": 34,
   "metadata": {
    "collapsed": true
   },
   "outputs": [],
   "source": [
    "all_features12 = comment_features12[comprehensive]"
   ]
  },
  {
   "cell_type": "code",
   "execution_count": 35,
   "metadata": {
    "collapsed": false
   },
   "outputs": [],
   "source": [
    "all_features = pd.concat([all_features1, all_features2, all_features3, all_features4, all_features5, all_features6, all_features7, all_features8, all_features9, all_features10,all_features11,all_features12])"
   ]
  },
  {
   "cell_type": "code",
   "execution_count": 37,
   "metadata": {
    "collapsed": false
   },
   "outputs": [],
   "source": [
    "#Save the filtered comments tokens\n",
    "all_features.to_csv('all_features')"
   ]
  },
  {
   "cell_type": "code",
   "execution_count": 14,
   "metadata": {
    "collapsed": false
   },
   "outputs": [],
   "source": [
    "#Save the sentiment analysis\n",
    "df_subset = df[['comment_id', 'status_id', 'parent_id', 'comment_likes', 'comment_sentiment']]\n",
    "df_subset.to_csv('sentiment.csv')"
   ]
  },
  {
   "cell_type": "code",
   "execution_count": 15,
   "metadata": {
    "collapsed": true
   },
   "outputs": [],
   "source": [
    "#Save the arguments proxy(reply counts)\n",
    "arguments.to_csv('arguments.csv')"
   ]
  },
  {
   "cell_type": "markdown",
   "metadata": {},
   "source": [
    "### Create Training and Test Dataframe"
   ]
  },
  {
   "cell_type": "code",
   "execution_count": 13,
   "metadata": {
    "collapsed": false
   },
   "outputs": [],
   "source": [
    "#Read in features and data for target\n",
    "all_features = pd.read_csv('all_features')\n",
    "arguments = pd.read_csv('arguments.csv')\n",
    "sentiment = pd.read_csv('sentiment.csv')"
   ]
  },
  {
   "cell_type": "code",
   "execution_count": null,
   "metadata": {
    "collapsed": true
   },
   "outputs": [],
   "source": [
    "#Delete extra columns\n",
    "del all_features['Unnamed: 0']\n",
    "del arguments['Unnamed: 0']\n",
    "del sentiment['Unnamed: 0']"
   ]
  },
  {
   "cell_type": "code",
   "execution_count": 107,
   "metadata": {
    "collapsed": false
   },
   "outputs": [],
   "source": [
    "features_posts = pd.concat([all_features, sentiment['status_id']], axis = 1)"
   ]
  },
  {
   "cell_type": "code",
   "execution_count": 108,
   "metadata": {
    "collapsed": false
   },
   "outputs": [],
   "source": [
    "#Aggregate tokens to the post level\n",
    "features_grouped = features_posts.groupby('status_id')\n",
    "summed_features = features_grouped.sum()\n",
    "summed_features.reset_index(inplace=True)"
   ]
  },
  {
   "cell_type": "code",
   "execution_count": 109,
   "metadata": {
    "collapsed": true
   },
   "outputs": [],
   "source": [
    "#Median sentiment per post\n",
    "sentiment_grouped = sentiment.groupby('status_id')\n",
    "median_sentiment = sentiment_grouped.median()\n",
    "median_sentiment.rename(columns = {'comment_sentiment':'median_sentiment'}, inplace=True)\n",
    "median_sentiment.reset_index(inplace=True)\n",
    "median_sentiment = median_sentiment[['status_id', 'median_sentiment']]"
   ]
  },
  {
   "cell_type": "code",
   "execution_count": 110,
   "metadata": {
    "collapsed": true
   },
   "outputs": [],
   "source": [
    "#Sentiment standard deviation by post\n",
    "std_sentiment = sentiment_grouped.std()\n",
    "std_sentiment.rename(columns = {'comment_sentiment':'std_sentiment'}, inplace=True)\n",
    "std_sentiment.reset_index(inplace=True)\n",
    "std_sentiment = std_sentiment[['status_id', 'std_sentiment']]"
   ]
  },
  {
   "cell_type": "code",
   "execution_count": 111,
   "metadata": {
    "collapsed": false
   },
   "outputs": [],
   "source": [
    "#Number of comments per post\n",
    "comment_count = sentiment_grouped.count()\n",
    "comment_count.rename(columns = {'comment_id':'comment_count'}, inplace=True)\n",
    "comment_count.reset_index(inplace=True)\n",
    "comment_count = comment_count[['status_id', 'comment_count']]"
   ]
  },
  {
   "cell_type": "code",
   "execution_count": 112,
   "metadata": {
    "collapsed": false
   },
   "outputs": [],
   "source": [
    "#Replies per post\n",
    "arguments_grouped = arguments.groupby('status_id')\n",
    "summed_arguments = arguments_grouped.sum()\n",
    "summed_arguments.reset_index(inplace=True)"
   ]
  },
  {
   "cell_type": "code",
   "execution_count": 113,
   "metadata": {
    "collapsed": false
   },
   "outputs": [],
   "source": [
    "#Merge data together\n",
    "final = pd.merge(summed_features, median_sentiment, on = 'status_id')\n",
    "final = pd.merge(summed_arguments, final, on = 'status_id')\n",
    "final = pd.merge(comment_count, final, on = 'status_id')\n",
    "final = pd.merge(std_sentiment, final, on = 'status_id')"
   ]
  },
  {
   "cell_type": "code",
   "execution_count": 114,
   "metadata": {
    "collapsed": false
   },
   "outputs": [],
   "source": [
    "final.to_csv('final.csv')"
   ]
  },
  {
   "cell_type": "markdown",
   "metadata": {
    "collapsed": true
   },
   "source": [
    "### Predict Percent of Arguments in Post"
   ]
  },
  {
   "cell_type": "code",
   "execution_count": 49,
   "metadata": {
    "collapsed": false
   },
   "outputs": [],
   "source": [
    "final = pd.read_csv('final.csv')\n",
    "del final['Unnamed: 0']\n",
    "final['comment_count'] = final['comment_count'].apply(float)"
   ]
  },
  {
   "cell_type": "code",
   "execution_count": 6,
   "metadata": {
    "collapsed": true
   },
   "outputs": [],
   "source": [
    "#Create function to find scores for many regressors\n",
    "from sklearn.linear_model import LinearRegression, BayesianRidge\n",
    "from sklearn.ensemble import RandomForestRegressor, AdaBoostRegressor, GradientBoostingRegressor, BaggingRegressor\n",
    "from sklearn.neighbors import KNeighborsRegressor\n",
    "from sklearn.cross_validation import cross_val_score\n",
    "\n",
    "def scores(x,y):\n",
    "    X_train, X_test, y_train, y_test = train_test_split(x, y, random_state=42)\n",
    "\n",
    "    lr = LinearRegression()\n",
    "    score = cross_val_score(lr, X, y, cv = 5, scoring = 'r2')\n",
    "    print 'Linear regression mean score is', score.mean(), 'and std is', score.std() \n",
    "\n",
    "    br = BayesianRidge()\n",
    "    score = cross_val_score(br, X, y, cv = 5, scoring = 'r2')\n",
    "    print 'Bayesian Ridge mean score is', score.mean(), 'and std is', score.std()  \n",
    "    \n",
    "    rf = RandomForestRegressor()\n",
    "    score = cross_val_score(rf, X, y, cv = 5, scoring = 'r2')\n",
    "    print 'Random Forest mean score is', score.mean(), 'and std is', score.std() \n",
    "\n",
    "    ab = AdaBoostRegressor()\n",
    "    score = cross_val_score(ab, X, y, cv = 5, scoring = 'r2')\n",
    "    print 'AdaBoost mean score is', score.mean(), 'and std is', score.std() \n",
    "\n",
    "    gb = GradientBoostingRegressor()\n",
    "    score = cross_val_score(gb, X, y, cv = 5, scoring = 'r2')\n",
    "    print 'Gradient Boosting mean score is', score.mean(), 'and std is', score.std() \n",
    "    \n",
    "    bg = BaggingRegressor()\n",
    "    score = cross_val_score(bg, X, y, cv = 5, scoring = 'r2')\n",
    "    print 'Bagging mean score is', score.mean(), 'and std is', score.std()\n",
    "    \n",
    "    kn = KNeighborsRegressor()\n",
    "    score = cross_val_score(kn, X, y, cv = 5, scoring = 'r2')\n",
    "    print 'K Neighbors mean score is', score.mean(), 'and std is', score.std()"
   ]
  },
  {
   "cell_type": "code",
   "execution_count": 52,
   "metadata": {
    "collapsed": false
   },
   "outputs": [
    {
     "name": "stderr",
     "output_type": "stream",
     "text": [
      "C:\\Anaconda2\\lib\\site-packages\\ipykernel\\__main__.py:3: FutureWarning: using '-' to provide set differences with Indexes is deprecated, use .difference()\n",
      "  app.launch_new_instance()\n",
      "C:\\Anaconda2\\lib\\site-packages\\ipykernel\\__main__.py:5: FutureWarning: using '-' to provide set differences with Indexes is deprecated, use .difference()\n"
     ]
    },
    {
     "name": "stdout",
     "output_type": "stream",
     "text": [
      "Linear regression mean score is -8.53665034901 and std is 12.6909150716\n",
      "Bayesian Ridge mean score is 0.104108847773 and std is 0.157443185971\n",
      "Random Forest mean score is 0.113259849244 and std is 0.112809677426\n",
      "AdaBoost mean score is 0.113587661134 and std is 0.132144325052\n",
      "Gradient Boosting mean score is 0.120576567561 and std is 0.145552454928\n",
      "Bagging mean score is 0.142648327484 and std is 0.133774053345\n",
      "K Neighbors mean score is 0.0605267789188 and std is 0.083774269969\n"
     ]
    }
   ],
   "source": [
    "#Predicting number of replies normalized by the comment count per post\n",
    "#Results are poor\n",
    "X = final[final.columns - ['status_id', 'std_sentiment', 'median_sentiment', 'replies']]\n",
    "X = X.div(X.comment_count, axis = 'index')\n",
    "X = X[X.columns - ['comment_count']]\n",
    "y = 1.0*final.replies/final.comment_count\n",
    "\n",
    "scores(X,y)"
   ]
  },
  {
   "cell_type": "code",
   "execution_count": null,
   "metadata": {
    "collapsed": true
   },
   "outputs": [],
   "source": [
    "#Running Gridsearch on the best scoring model, Adaboost, did not improve its score\n",
    "from sklearn.grid_search import GridSearchCV\n",
    "\n",
    "param_grid = {'n_estimators': [20, 40, 50, 60, 70, 80], 'learning_rate': [0.25, 0.5, 1.0, 1.5, 2.0, 3.0], 'loss': ['linear', 'square', 'exponential']}\n",
    "\n",
    "gs = GridSearchCV(AdaBoostRegressor(), param_grid, cv= 5, n_jobs = -1)\n",
    "score = cross_val_score(gs, X, y, cv = 5, scoring = 'r2')\n",
    "print 'AdaBoost with GridSearh mean score is', score.mean(), 'and std is', score.std() "
   ]
  },
  {
   "cell_type": "code",
   "execution_count": 55,
   "metadata": {
    "collapsed": false
   },
   "outputs": [
    {
     "data": {
      "text/plain": [
       "<matplotlib.axes._subplots.AxesSubplot at 0x4b13d2b0>"
      ]
     },
     "execution_count": 55,
     "metadata": {},
     "output_type": "execute_result"
    },
    {
     "data": {
      "image/png": "[encoded data removed]",
      "text/plain": [
       "<matplotlib.figure.Figure at 0x711dd780>"
      ]
     },
     "metadata": {},
     "output_type": "display_data"
    }
   ],
   "source": [
    "#Distribution of replies as a percent of total comments\n",
    "sns.boxplot(y)"
   ]
  },
  {
   "cell_type": "code",
   "execution_count": 30,
   "metadata": {
    "collapsed": false
   },
   "outputs": [
    {
     "data": {
      "text/plain": [
       "count    390.000000\n",
       "mean       0.285606\n",
       "std        0.092408\n",
       "min        0.064327\n",
       "25%        0.217701\n",
       "50%        0.277914\n",
       "75%        0.341260\n",
       "max        0.610473\n",
       "dtype: float64"
      ]
     },
     "execution_count": 30,
     "metadata": {},
     "output_type": "execute_result"
    }
   ],
   "source": [
    "y.describe()"
   ]
  },
  {
   "cell_type": "markdown",
   "metadata": {},
   "source": [
    "## Predict Percent of Conversations with >20 Replies"
   ]
  },
  {
   "cell_type": "code",
   "execution_count": 76,
   "metadata": {
    "collapsed": false
   },
   "outputs": [
    {
     "data": {
      "text/plain": [
       "count    260884.000000\n",
       "mean          2.986109\n",
       "std          29.472568\n",
       "min           1.000000\n",
       "25%           1.000000\n",
       "50%           1.000000\n",
       "75%           2.000000\n",
       "max        7985.000000\n",
       "Name: replies, dtype: float64"
      ]
     },
     "execution_count": 76,
     "metadata": {},
     "output_type": "execute_result"
    }
   ],
   "source": [
    "arguments.replies.describe()"
   ]
  },
  {
   "cell_type": "code",
   "execution_count": 23,
   "metadata": {
    "collapsed": false
   },
   "outputs": [],
   "source": [
    "#Remove conversations with 20 replies or less. The assumption from manually reading comment threads is that longer reply threads\n",
    "#have arguments\n",
    "arguments['filtered_replies'] = arguments.replies.apply(lambda x: x if x>20 else 0)\n",
    "arguments_grouped = arguments.groupby('status_id')\n",
    "summed_arguments = arguments_grouped.sum()\n",
    "summed_arguments.reset_index(inplace=True)\n",
    "final = pd.merge(summed_arguments, final, on = 'status_id')"
   ]
  },
  {
   "cell_type": "code",
   "execution_count": 24,
   "metadata": {
    "collapsed": false
   },
   "outputs": [
    {
     "data": {
      "text/plain": [
       "<matplotlib.axes._subplots.AxesSubplot at 0xe6ae080>"
      ]
     },
     "execution_count": 24,
     "metadata": {},
     "output_type": "execute_result"
    },
    {
     "data": {
      "image/png": "[encoded data removed]",
      "text/plain": [
       "<matplotlib.figure.Figure at 0x4a9b2898>"
      ]
     },
     "metadata": {},
     "output_type": "display_data"
    }
   ],
   "source": [
    "#Boxplot of number of replies in conversations with over 20 replies\n",
    "sns.boxplot(arguments[arguments.filtered_replies >0].filtered_replies)"
   ]
  },
  {
   "cell_type": "code",
   "execution_count": 18,
   "metadata": {
    "collapsed": false
   },
   "outputs": [
    {
     "data": {
      "text/plain": [
       "count    3332.000000\n",
       "mean      101.316927\n",
       "std       240.797229\n",
       "min        21.000000\n",
       "25%        30.000000\n",
       "50%        47.000000\n",
       "75%        96.000000\n",
       "max      7985.000000\n",
       "Name: filtered_replies, dtype: float64"
      ]
     },
     "execution_count": 18,
     "metadata": {},
     "output_type": "execute_result"
    }
   ],
   "source": [
    "arguments[arguments.filtered_replies.isnull() == False].filtered_replies.describe()"
   ]
  },
  {
   "cell_type": "code",
   "execution_count": 133,
   "metadata": {
    "collapsed": false
   },
   "outputs": [
    {
     "name": "stderr",
     "output_type": "stream",
     "text": [
      "/home/ec2-user/anaconda2/lib/python2.7/site-packages/ipykernel/__main__.py:1: FutureWarning: using '-' to provide set differences with Indexes is deprecated, use .difference()\n",
      "  if __name__ == '__main__':\n",
      "/home/ec2-user/anaconda2/lib/python2.7/site-packages/ipykernel/__main__.py:3: FutureWarning: using '-' to provide set differences with Indexes is deprecated, use .difference()\n",
      "  app.launch_new_instance()\n"
     ]
    },
    {
     "name": "stdout",
     "output_type": "stream",
     "text": [
      "Linear regression mean score is -6.05708782082 and std is 8.30373229924\n",
      "Bayesian Ridge mean score is 0.191466683315 and std is 0.187647648724\n",
      "Random Forest mean score is 0.15847681582 and std is 0.140665043716\n",
      "AdaBoost mean score is 0.237968318342 and std is 0.15771452202\n",
      "Gradient Boosting mean score is 0.182488491334 and std is 0.0931451629746\n",
      "Bagging mean score is 0.20451340835 and std is 0.10324343661\n",
      "K Neighbors mean score is 0.121861999894 and std is 0.125716714941\n"
     ]
    }
   ],
   "source": [
    "X = final[final.columns - ['status_id', 'std_sentiment', 'median_sentiment','filtered_replies', 'replies', 'replies_x', 'replies_y']]\n",
    "X = X.div(X.comment_count, axis = 'index')\n",
    "X = X[X.columns - ['comment_count']]\n",
    "y = 1.0*final.filtered_replies/final.comment_count\n",
    "\n",
    "scores(X,y)"
   ]
  },
  {
   "cell_type": "code",
   "execution_count": 194,
   "metadata": {
    "collapsed": false
   },
   "outputs": [],
   "source": [
    "#Run AdaBoost in order to find the feature importances\n",
    "ab = AdaBoostRegressor()\n",
    "X_train, X_test, y_train, y_test = train_test_split(X, y, random_state=42)\n",
    "\n",
    "ab.fit(X_train, y_train)\n",
    "importances = pd.DataFrame(ab.feature_importances_, index = X.columns)\n",
    "importances = importances.transpose()"
   ]
  },
  {
   "cell_type": "code",
   "execution_count": 193,
   "metadata": {
    "collapsed": false
   },
   "outputs": [
    {
     "name": "stderr",
     "output_type": "stream",
     "text": [
      "/home/ec2-user/anaconda2/lib/python2.7/site-packages/ipykernel/__main__.py:13: FutureWarning: sort(columns=....) is deprecated, use sort_values(by=.....)\n"
     ]
    },
    {
     "data": {
      "text/html": [
       "<div>\n",
       "<table border=\"1\" class=\"dataframe\">\n",
       "  <thead>\n",
       "    <tr style=\"text-align: right;\">\n",
       "      <th></th>\n",
       "      <th>Topics</th>\n",
       "      <th>Importance</th>\n",
       "    </tr>\n",
       "  </thead>\n",
       "  <tbody>\n",
       "    <tr>\n",
       "      <th>0</th>\n",
       "      <td>Political</td>\n",
       "      <td>0.2954</td>\n",
       "    </tr>\n",
       "    <tr>\n",
       "      <th>0</th>\n",
       "      <td>School</td>\n",
       "      <td>0.2167</td>\n",
       "    </tr>\n",
       "    <tr>\n",
       "      <th>0</th>\n",
       "      <td>Religion</td>\n",
       "      <td>0.1439</td>\n",
       "    </tr>\n",
       "    <tr>\n",
       "      <th>0</th>\n",
       "      <td>Close Relationships</td>\n",
       "      <td>0.1272</td>\n",
       "    </tr>\n",
       "    <tr>\n",
       "      <th>0</th>\n",
       "      <td>Change</td>\n",
       "      <td>0.1119</td>\n",
       "    </tr>\n",
       "    <tr>\n",
       "      <th>0</th>\n",
       "      <td>Health</td>\n",
       "      <td>0.0434</td>\n",
       "    </tr>\n",
       "    <tr>\n",
       "      <th>0</th>\n",
       "      <td>Work</td>\n",
       "      <td>0.0379</td>\n",
       "    </tr>\n",
       "    <tr>\n",
       "      <th>0</th>\n",
       "      <td>Money</td>\n",
       "      <td>0.0268</td>\n",
       "    </tr>\n",
       "  </tbody>\n",
       "</table>\n",
       "</div>"
      ],
      "text/plain": [
       "                Topics Importance\n",
       "0            Political     0.2954\n",
       "0               School     0.2167\n",
       "0             Religion     0.1439\n",
       "0  Close Relationships     0.1272\n",
       "0               Change     0.1119\n",
       "0               Health     0.0434\n",
       "0                 Work     0.0379\n",
       "0                Money     0.0268"
      ]
     },
     "execution_count": 193,
     "metadata": {},
     "output_type": "execute_result"
    }
   ],
   "source": [
    "#Feature importances by topics\n",
    "topics_importance = pd.DataFrame()\n",
    "schooldf = pd.DataFrame(['School', round(importances[school].transpose().sum()[0], 4)])\n",
    "changedf = pd.DataFrame(['Change', round(importances[change].transpose().sum()[0], 4)])\n",
    "politicaldf = pd.DataFrame(['Political', round(importances[political].transpose().sum()[0], 4)])\n",
    "moneydf = pd.DataFrame(['Money', round(importances[money].transpose().sum()[0], 4)])\n",
    "close_relationshipsdf = pd.DataFrame(['Close Relationships', round(importances[close_relationships].transpose().sum()[0], 4)])\n",
    "workdf = pd.DataFrame(['Work', round(importances[work].transpose().sum()[0], 4)])\n",
    "religiondf = pd.DataFrame(['Religion', round(importances[religion].transpose().sum()[0], 4)])\n",
    "healthdf = pd.DataFrame(['Health', round(importances[health].transpose().sum()[0], 4)])\n",
    "\n",
    "topics_importance = pd.concat([schooldf, changedf, politicaldf, moneydf, close_relationshipsdf, workdf, religiondf, healthdf], axis = 1)\n",
    "topics_importance = topics_importance.transpose()\n",
    "topics_importance.rename(columns = {0:'Topics', 1:'Importance'}, inplace = True)\n",
    "topics_importance.sort('Importance', ascending = False)"
   ]
  },
  {
   "cell_type": "code",
   "execution_count": 21,
   "metadata": {
    "collapsed": false
   },
   "outputs": [],
   "source": [
    "#Run GridSearch on AdaBoost, the previous best score. However GridSearch did not improve the out-of-the-box score\n",
    "param_grid = {'n_estimators': [20, 40, 50, 60, 70, 80], 'learning_rate': [0.25, 0.5, 1.0, 1.5, 2.0, 3.0], 'loss': ['linear', 'square', 'exponential'], 'max_depth':[2,3,4,5], 'min_samples_split':[1,2,3]}\n",
    "\n",
    "gs = GridSearchCV(AdaBoostRegressor(), param_grid, cv= 5, n_jobs = -1)\n",
    "score = cross_val_score(gs, X, y, cv = 5, scoring = 'r2')\n",
    "print 'AdaBoost with GridSearh mean score is', score.mean(), 'and std is', score.std() "
   ]
  },
  {
   "cell_type": "code",
   "execution_count": 84,
   "metadata": {
    "collapsed": false
   },
   "outputs": [
    {
     "data": {
      "text/plain": [
       "<matplotlib.axes._subplots.AxesSubplot at 0x7fb98071ee10>"
      ]
     },
     "execution_count": 84,
     "metadata": {},
     "output_type": "execute_result"
    },
    {
     "data": {
      "image/png": "[encoded data removed]",
      "text/plain": [
       "<matplotlib.figure.Figure at 0x7fb98073efd0>"
      ]
     },
     "metadata": {},
     "output_type": "display_data"
    }
   ],
   "source": [
    "#Filtered replies as a percent of total comment count by post\n",
    "sns.boxplot(y)"
   ]
  },
  {
   "cell_type": "code",
   "execution_count": 86,
   "metadata": {
    "collapsed": false
   },
   "outputs": [
    {
     "data": {
      "text/plain": [
       "count    390.000000\n",
       "mean       0.174464\n",
       "std        0.095020\n",
       "min        0.030183\n",
       "25%        0.103583\n",
       "50%        0.162686\n",
       "75%        0.226929\n",
       "max        0.485489\n",
       "dtype: float64"
      ]
     },
     "execution_count": 86,
     "metadata": {},
     "output_type": "execute_result"
    }
   ],
   "source": [
    "y.describe()"
   ]
  },
  {
   "cell_type": "markdown",
   "metadata": {},
   "source": [
    "## Predict sentiment standard deviation"
   ]
  },
  {
   "cell_type": "code",
   "execution_count": 52,
   "metadata": {
    "collapsed": false
   },
   "outputs": [
    {
     "name": "stdout",
     "output_type": "stream",
     "text": [
      "Linear regression mean score is -8.99314894061 and std is 9.62783853124\n",
      "Bayesian Ridge mean score is 0.137551892921 and std is 0.209717476925\n",
      "Random Forest mean score is 0.128221397883 and std is 0.186135453862\n",
      "AdaBoost mean score is 0.211929011669 and std is 0.231636450461\n",
      "Gradient Boosting mean score is 0.222156938081 and std is 0.245510639813\n",
      "Bagging mean score is 0.185069649627 and std is 0.261086855412\n",
      "K Neighbors mean score is 0.0502699518321 and std is 0.211779677545\n"
     ]
    }
   ],
   "source": [
    "#Try to predict standard deviation of comment sentiment. High standard deviation may imply divisions and arguments\n",
    "y = final.std_sentiment\n",
    "scores(X,y)"
   ]
  },
  {
   "cell_type": "code",
   "execution_count": 26,
   "metadata": {
    "collapsed": false
   },
   "outputs": [
    {
     "data": {
      "text/plain": [
       "<matplotlib.axes._subplots.AxesSubplot at 0x7fb9b4671650>"
      ]
     },
     "execution_count": 26,
     "metadata": {},
     "output_type": "execute_result"
    },
    {
     "data": {
      "image/png": "[encoded data removed]",
      "text/plain": [
       "<matplotlib.figure.Figure at 0x7fb9b4761850>"
      ]
     },
     "metadata": {},
     "output_type": "display_data"
    }
   ],
   "source": [
    "sns.boxplot(y)"
   ]
  },
  {
   "cell_type": "code",
   "execution_count": 27,
   "metadata": {
    "collapsed": false
   },
   "outputs": [
    {
     "data": {
      "text/plain": [
       "count    390.000000\n",
       "mean       0.313376\n",
       "std        0.030723\n",
       "min        0.241794\n",
       "25%        0.291242\n",
       "50%        0.312446\n",
       "75%        0.334741\n",
       "max        0.407252\n",
       "Name: std_sentiment, dtype: float64"
      ]
     },
     "execution_count": 27,
     "metadata": {},
     "output_type": "execute_result"
    }
   ],
   "source": [
    "#The standard deviations seem tightly distributed\n",
    "y.describe()"
   ]
  },
  {
   "cell_type": "markdown",
   "metadata": {},
   "source": [
    "## Predict median sentiment "
   ]
  },
  {
   "cell_type": "code",
   "execution_count": 51,
   "metadata": {
    "collapsed": false
   },
   "outputs": [
    {
     "name": "stdout",
     "output_type": "stream",
     "text": [
      "Linear regression mean score is -4.93337888301 and std is 3.67671959746\n",
      "Bayesian Ridge mean score is 0.16348461219 and std is 0.15561038022\n",
      "Random Forest mean score is 0.0515235536493 and std is 0.182325310675\n",
      "AdaBoost mean score is -0.000504693097972 and std is 0.160729817351\n",
      "Gradient Boosting mean score is 0.0488827218858 and std is 0.30063967342\n",
      "Bagging mean score is -0.0170341549496 and std is 0.227272661923\n",
      "K Neighbors mean score is -0.0715347008178 and std is 0.274158620643\n"
     ]
    }
   ],
   "source": [
    "#Predict median sentiment\n",
    "y = final.median_sentiment\n",
    "scores(X,y)"
   ]
  },
  {
   "cell_type": "code",
   "execution_count": 22,
   "metadata": {
    "collapsed": false
   },
   "outputs": [
    {
     "data": {
      "text/plain": [
       "<matplotlib.axes._subplots.AxesSubplot at 0x7fb9b4797c90>"
      ]
     },
     "execution_count": 22,
     "metadata": {},
     "output_type": "execute_result"
    },
    {
     "data": {
      "image/png": "[encoded data removed]",
      "text/plain": [
       "<matplotlib.figure.Figure at 0x7fb9b4784110>"
      ]
     },
     "metadata": {},
     "output_type": "display_data"
    }
   ],
   "source": [
    "sns.boxplot(y)"
   ]
  },
  {
   "cell_type": "code",
   "execution_count": 24,
   "metadata": {
    "collapsed": false
   },
   "outputs": [
    {
     "data": {
      "text/plain": [
       "count    390.000000\n",
       "mean       0.041516\n",
       "std        0.085542\n",
       "min        0.000000\n",
       "25%        0.000000\n",
       "50%        0.000000\n",
       "75%        0.045365\n",
       "max        0.460556\n",
       "Name: median_sentiment, dtype: float64"
      ]
     },
     "execution_count": 24,
     "metadata": {},
     "output_type": "execute_result"
    }
   ],
   "source": [
    "#Most sentiment seems to be neutral\n",
    "y.describe()"
   ]
  },
  {
   "cell_type": "markdown",
   "metadata": {
    "collapsed": true
   },
   "source": [
    "## Predict sentiment median of coversations with >20 replies"
   ]
  },
  {
   "cell_type": "code",
   "execution_count": 27,
   "metadata": {
    "collapsed": true
   },
   "outputs": [],
   "source": [
    "sentiment = pd.read_csv('sentiment.csv')\n",
    "final = pd.read_csv('final.csv')\n",
    "del sentiment['Unnamed: 0']\n",
    "del final['Unnamed: 0']"
   ]
  },
  {
   "cell_type": "code",
   "execution_count": 28,
   "metadata": {
    "collapsed": false
   },
   "outputs": [],
   "source": [
    "#Filter sentiments and group by post\n",
    "filtered_replies = arguments[arguments.filtered_replies >0].parent_id\n",
    "sentiment_filtered = sentiment[sentiment.parent_id.isin(filtered_replies)]\n",
    "sentiment_filtered_post = pd.DataFrame(sentiment_filtered.groupby('status_id').comment_sentiment.std())\n",
    "sentiment_filtered_post.reset_index(inplace = True)\n",
    "sentiment_filtered_post.rename(columns = {'comment_sentiment': 'std_sentiment_filtered'}, inplace=True)\n",
    "final = pd.merge(sentiment_filtered_post, final, on = 'status_id')"
   ]
  },
  {
   "cell_type": "code",
   "execution_count": 149,
   "metadata": {
    "collapsed": false
   },
   "outputs": [
    {
     "name": "stderr",
     "output_type": "stream",
     "text": [
      "C:\\Anaconda2\\lib\\site-packages\\ipykernel\\__main__.py:1: FutureWarning: using '-' to provide set differences with Indexes is deprecated, use .difference()\n",
      "  if __name__ == '__main__':\n",
      "C:\\Anaconda2\\lib\\site-packages\\ipykernel\\__main__.py:3: FutureWarning: using '-' to provide set differences with Indexes is deprecated, use .difference()\n",
      "  app.launch_new_instance()\n"
     ]
    },
    {
     "name": "stdout",
     "output_type": "stream",
     "text": [
      "Linear regression mean score is -22.1234110231 and std is 37.0817213036\n",
      "Bayesian Ridge mean score is 0.153302168043 and std is 0.124262519986\n",
      "Random Forest mean score is 0.0207337371662 and std is 0.173550710417\n",
      "AdaBoost mean score is 0.117609632051 and std is 0.0808494070394\n",
      "Gradient Boosting mean score is 0.0913377551397 and std is 0.191618079647\n",
      "Bagging mean score is 0.115071467152 and std is 0.100647985117\n",
      "K Neighbors mean score is 0.0804534665382 and std is 0.14210596319\n"
     ]
    }
   ],
   "source": [
    "X = final[final.columns - ['status_id', 'std_sentiment', 'median_sentiment','filtered_replies', 'replies', 'replies_x', 'replies_y', 'std_sentiment_filtered']]\n",
    "X = X.div(X.comment_count, axis = 'index')\n",
    "X = X[X.columns - ['comment_count']]\n",
    "y = final.std_sentiment_filtered\n",
    "\n",
    "scores(X,y)"
   ]
  },
  {
   "cell_type": "code",
   "execution_count": 29,
   "metadata": {
    "collapsed": false
   },
   "outputs": [
    {
     "data": {
      "text/plain": [
       "<matplotlib.axes._subplots.AxesSubplot at 0xa4983908>"
      ]
     },
     "execution_count": 29,
     "metadata": {},
     "output_type": "execute_result"
    },
    {
     "data": {
      "image/png": "[encoded data removed]",
      "text/plain": [
       "<matplotlib.figure.Figure at 0x41664cf8>"
      ]
     },
     "metadata": {},
     "output_type": "display_data"
    }
   ],
   "source": [
    "sns.boxplot(final.std_sentiment_filtered)"
   ]
  },
  {
   "cell_type": "code",
   "execution_count": 30,
   "metadata": {
    "collapsed": false
   },
   "outputs": [
    {
     "data": {
      "text/plain": [
       "count    386.000000\n",
       "mean       0.317734\n",
       "std        0.039968\n",
       "min        0.140625\n",
       "25%        0.287656\n",
       "50%        0.319648\n",
       "75%        0.346163\n",
       "max        0.433168\n",
       "Name: std_sentiment_filtered, dtype: float64"
      ]
     },
     "execution_count": 30,
     "metadata": {},
     "output_type": "execute_result"
    }
   ],
   "source": [
    "final.std_sentiment_filtered.describe()"
   ]
  },
  {
   "cell_type": "markdown",
   "metadata": {},
   "source": [
    "## Predict Median Sentiment of Conversations >20 Replies"
   ]
  },
  {
   "cell_type": "code",
   "execution_count": 150,
   "metadata": {
    "collapsed": false
   },
   "outputs": [
    {
     "name": "stderr",
     "output_type": "stream",
     "text": [
      "C:\\Anaconda2\\lib\\site-packages\\ipykernel\\__main__.py:6: FutureWarning: using '-' to provide set differences with Indexes is deprecated, use .difference()\n",
      "C:\\Anaconda2\\lib\\site-packages\\ipykernel\\__main__.py:8: FutureWarning: using '-' to provide set differences with Indexes is deprecated, use .difference()\n"
     ]
    },
    {
     "name": "stdout",
     "output_type": "stream",
     "text": [
      "Linear regression mean score is -1.80682381574 and std is 1.06241694764\n",
      "Bayesian Ridge mean score is 0.01733371425 and std is 0.0472778907888\n",
      "Random Forest mean score is -0.0748260693269 and std is 0.168014701287\n",
      "AdaBoost mean score is -0.0896160242448 and std is 0.0972554647767\n",
      "Gradient Boosting mean score is -0.124735333092 and std is 0.139225318609\n",
      "Bagging mean score is -0.113014801111 and std is 0.0669067612313\n",
      "K Neighbors mean score is -0.116812500178 and std is 0.145901035992\n"
     ]
    }
   ],
   "source": [
    "sentiment_filtered_post = pd.DataFrame(sentiment_filtered.groupby('status_id').comment_sentiment.median())\n",
    "sentiment_filtered_post.reset_index(inplace = True)\n",
    "sentiment_filtered_post.rename(columns = {'comment_sentiment': 'median_sentiment_filtered'}, inplace=True)\n",
    "final = pd.merge(sentiment_filtered_post, final, on = 'status_id')\n",
    "\n",
    "X = final[final.columns - ['status_id', 'std_sentiment', 'median_sentiment','median_sentiment_filtered', 'filtered_replies', 'replies', 'replies_x', 'replies_y', 'std_sentiment_filtered']]\n",
    "X = X.div(X.comment_count, axis = 'index')\n",
    "X = X[X.columns - ['comment_count']]\n",
    "y = final.median_sentiment_filtered\n",
    "\n",
    "scores(X,y)"
   ]
  },
  {
   "cell_type": "code",
   "execution_count": 32,
   "metadata": {
    "collapsed": false
   },
   "outputs": [
    {
     "name": "stderr",
     "output_type": "stream",
     "text": [
      "C:\\Anaconda2\\lib\\site-packages\\ipykernel\\__main__.py:6: FutureWarning: using '-' to provide set differences with Indexes is deprecated, use .difference()\n",
      "C:\\Anaconda2\\lib\\site-packages\\ipykernel\\__main__.py:8: FutureWarning: using '-' to provide set differences with Indexes is deprecated, use .difference()\n"
     ]
    },
    {
     "name": "stdout",
     "output_type": "stream",
     "text": [
      "Linear regression mean score is -1.80682381574 and std is 1.06241694764\n",
      "Bayesian Ridge mean score is 0.01733371425 and std is 0.0472778907888\n",
      "Random Forest mean score is -0.0963474523357 and std is 0.128440166127\n",
      "AdaBoost mean score is -0.121465500762 and std is 0.183165563168\n",
      "Gradient Boosting mean score is -0.129785616842 and std is 0.138714979518\n",
      "Bagging mean score is -0.104325707077 and std is 0.0630771059559\n",
      "K Neighbors mean score is -0.116812500178 and std is 0.145901035992\n"
     ]
    }
   ],
   "source": [
    "sentiment_filtered_post = pd.DataFrame(sentiment_filtered.groupby('status_id').comment_sentiment.median())\n",
    "sentiment_filtered_post.reset_index(inplace = True)\n",
    "sentiment_filtered_post.rename(columns = {'comment_sentiment': 'median_sentiment_filtered'}, inplace=True)\n",
    "final = pd.merge(sentiment_filtered_post, final, on = 'status_id')\n",
    "\n",
    "X = final[final.columns - ['status_id', 'std_sentiment', 'median_sentiment','median_sentiment_filtered', 'filtered_replies', 'replies', 'replies_x', 'replies_y', 'std_sentiment_filtered']]\n",
    "X = X.div(X.comment_count, axis = 'index')\n",
    "X = X[X.columns - ['comment_count']]\n",
    "y = final.median_sentiment_filtered\n",
    "\n",
    "scores(X,y)"
   ]
  },
  {
   "cell_type": "code",
   "execution_count": 33,
   "metadata": {
    "collapsed": false
   },
   "outputs": [
    {
     "data": {
      "text/plain": [
       "<matplotlib.axes._subplots.AxesSubplot at 0xe6680b8>"
      ]
     },
     "execution_count": 33,
     "metadata": {},
     "output_type": "execute_result"
    },
    {
     "data": {
      "image/png": "[encoded data removed]",
      "text/plain": [
       "<matplotlib.figure.Figure at 0x67a47eb8>"
      ]
     },
     "metadata": {},
     "output_type": "display_data"
    }
   ],
   "source": [
    "sns.boxplot(final.median_sentiment_filtered)"
   ]
  },
  {
   "cell_type": "code",
   "execution_count": 34,
   "metadata": {
    "collapsed": false
   },
   "outputs": [
    {
     "data": {
      "text/plain": [
       "count    386.000000\n",
       "mean       0.074278\n",
       "std        0.087327\n",
       "min        0.000000\n",
       "25%        0.000000\n",
       "50%        0.050000\n",
       "75%        0.123727\n",
       "max        0.433333\n",
       "Name: median_sentiment_filtered, dtype: float64"
      ]
     },
     "execution_count": 34,
     "metadata": {},
     "output_type": "execute_result"
    }
   ],
   "source": [
    "#Filtered reply sentiments have a little wider distribution compared those of non-filtered replies\n",
    "final.median_sentiment_filtered.describe()"
   ]
  },
  {
   "cell_type": "markdown",
   "metadata": {},
   "source": [
    "## Predicting difference between full and filtered sentiment standard deviations"
   ]
  },
  {
   "cell_type": "code",
   "execution_count": 35,
   "metadata": {
    "collapsed": true
   },
   "outputs": [],
   "source": [
    "final['std_sentiment_differenrce'] = final.std_sentiment_filtered - final.std_sentiment"
   ]
  },
  {
   "cell_type": "code",
   "execution_count": 153,
   "metadata": {
    "collapsed": false
   },
   "outputs": [
    {
     "name": "stderr",
     "output_type": "stream",
     "text": [
      "C:\\Anaconda2\\lib\\site-packages\\ipykernel\\__main__.py:1: FutureWarning: using '-' to provide set differences with Indexes is deprecated, use .difference()\n",
      "  if __name__ == '__main__':\n",
      "C:\\Anaconda2\\lib\\site-packages\\ipykernel\\__main__.py:3: FutureWarning: using '-' to provide set differences with Indexes is deprecated, use .difference()\n",
      "  app.launch_new_instance()\n"
     ]
    },
    {
     "name": "stdout",
     "output_type": "stream",
     "text": [
      "Linear regression mean score is -15.8843287432 and std is 24.9405233507\n",
      "Bayesian Ridge mean score is 0.00780746528551 and std is 0.0355645812991\n",
      "Random Forest mean score is -0.032995874255 and std is 0.0939311401449\n",
      "AdaBoost mean score is -0.0609102635486 and std is 0.0773549764914\n",
      "Gradient Boosting mean score is -0.0558295320799 and std is 0.10360586215\n",
      "Bagging mean score is 0.0237240537558 and std is 0.0732716499381\n",
      "K Neighbors mean score is -0.0635733499424 and std is 0.065772575068\n"
     ]
    }
   ],
   "source": [
    "X = final[final.columns - ['std_sentiment_differenrce','status_id', 'std_sentiment', 'median_sentiment','median_sentiment_filtered', 'filtered_replies', 'replies', 'replies_x', 'replies_y', 'std_sentiment_filtered']]\n",
    "X = X.div(X.comment_count, axis = 'index')\n",
    "X = X[X.columns - ['comment_count']]\n",
    "y = final['std_sentiment_differenrce']\n",
    "\n",
    "scores(X,y)"
   ]
  },
  {
   "cell_type": "code",
   "execution_count": 36,
   "metadata": {
    "collapsed": false
   },
   "outputs": [
    {
     "data": {
      "text/plain": [
       "<matplotlib.axes._subplots.AxesSubplot at 0x2f481c18>"
      ]
     },
     "execution_count": 36,
     "metadata": {},
     "output_type": "execute_result"
    },
    {
     "data": {
      "image/png": "[encoded data removed]",
      "text/plain": [
       "<matplotlib.figure.Figure at 0x2f4732b0>"
      ]
     },
     "metadata": {},
     "output_type": "display_data"
    }
   ],
   "source": [
    "sns.boxplot(final['std_sentiment_differenrce'])"
   ]
  },
  {
   "cell_type": "code",
   "execution_count": 37,
   "metadata": {
    "collapsed": false
   },
   "outputs": [
    {
     "data": {
      "text/plain": [
       "count    386.000000\n",
       "mean       0.004521\n",
       "std        0.037790\n",
       "min       -0.166995\n",
       "25%       -0.018815\n",
       "50%        0.004077\n",
       "75%        0.031135\n",
       "max        0.097326\n",
       "Name: std_sentiment_differenrce, dtype: float64"
      ]
     },
     "execution_count": 37,
     "metadata": {},
     "output_type": "execute_result"
    }
   ],
   "source": [
    "#The differnce between the two sets is almost neglible making predicting such a difference is extremely difficult\n",
    "final['std_sentiment_differenrce'].describe()"
   ]
  },
  {
   "cell_type": "markdown",
   "metadata": {},
   "source": [
    "## Predicting difference between full and filtered sentiment medians"
   ]
  },
  {
   "cell_type": "code",
   "execution_count": 38,
   "metadata": {
    "collapsed": true
   },
   "outputs": [],
   "source": [
    "final['median_sentiment_differenrce'] = final.median_sentiment_filtered - final.median_sentiment"
   ]
  },
  {
   "cell_type": "code",
   "execution_count": 155,
   "metadata": {
    "collapsed": false
   },
   "outputs": [
    {
     "name": "stderr",
     "output_type": "stream",
     "text": [
      "C:\\Anaconda2\\lib\\site-packages\\ipykernel\\__main__.py:1: FutureWarning: using '-' to provide set differences with Indexes is deprecated, use .difference()\n",
      "  if __name__ == '__main__':\n",
      "C:\\Anaconda2\\lib\\site-packages\\ipykernel\\__main__.py:3: FutureWarning: using '-' to provide set differences with Indexes is deprecated, use .difference()\n",
      "  app.launch_new_instance()\n"
     ]
    },
    {
     "name": "stdout",
     "output_type": "stream",
     "text": [
      "Linear regression mean score is -4.00787078397 and std is 1.98691963324\n",
      "Bayesian Ridge mean score is -0.0398236137621 and std is 0.119310963408\n",
      "Random Forest mean score is -0.13926425499 and std is 0.183777127744\n",
      "AdaBoost mean score is -0.101727692333 and std is 0.223621833668\n",
      "Gradient Boosting mean score is -0.17065698978 and std is 0.209655949823\n",
      "Bagging mean score is -0.112179738326 and std is 0.138266945109\n",
      "K Neighbors mean score is -0.282879447526 and std is 0.120992125943\n"
     ]
    }
   ],
   "source": [
    "X = final[final.columns - ['median_sentiment_differenrce', 'std_sentiment_differentce','status_id', 'std_sentiment', 'median_sentiment','median_sentiment_filtered', 'filtered_replies', 'replies', 'replies_x', 'replies_y', 'std_sentiment_filtered']]\n",
    "X = X.div(X.comment_count, axis = 'index')\n",
    "X = X[X.columns - ['comment_count']]\n",
    "y = final['median_sentiment_differenrce']\n",
    "\n",
    "scores(X,y)"
   ]
  },
  {
   "cell_type": "code",
   "execution_count": 39,
   "metadata": {
    "collapsed": false
   },
   "outputs": [
    {
     "data": {
      "text/plain": [
       "<matplotlib.axes._subplots.AxesSubplot at 0x3e1f8f28>"
      ]
     },
     "execution_count": 39,
     "metadata": {},
     "output_type": "execute_result"
    },
    {
     "data": {
      "image/png": "[encoded data removed]",
      "text/plain": [
       "<matplotlib.figure.Figure at 0x3e202668>"
      ]
     },
     "metadata": {},
     "output_type": "display_data"
    }
   ],
   "source": [
    "sns.boxplot(final['median_sentiment_differenrce'] )"
   ]
  },
  {
   "cell_type": "code",
   "execution_count": 41,
   "metadata": {
    "collapsed": false
   },
   "outputs": [
    {
     "data": {
      "text/plain": [
       "count    386.000000\n",
       "mean       0.032979\n",
       "std        0.092980\n",
       "min       -0.354686\n",
       "25%        0.000000\n",
       "50%        0.000000\n",
       "75%        0.088393\n",
       "max        0.300000\n",
       "Name: median_sentiment_differenrce, dtype: float64"
      ]
     },
     "execution_count": 41,
     "metadata": {},
     "output_type": "execute_result"
    }
   ],
   "source": [
    "#The difference between medians is very close. Predicting in such a tight window is difficult\n",
    "final['median_sentiment_differenrce'].describe()"
   ]
  }
 ],
 "metadata": {
  "anaconda-cloud": {},
  "kernelspec": {
   "display_name": "Python [Root]",
   "language": "python",
   "name": "Python [Root]"
  },
  "language_info": {
   "codemirror_mode": {
    "name": "ipython",
    "version": 2
   },
   "file_extension": ".py",
   "mimetype": "text/x-python",
   "name": "python",
   "nbconvert_exporter": "python",
   "pygments_lexer": "ipython2",
   "version": "2.7.12"
  }
 },
 "nbformat": 4,
 "nbformat_minor": 0
}
