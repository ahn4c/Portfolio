{
 "cells": [
  {
   "cell_type": "markdown",
   "metadata": {},
   "source": [
    "# Iowa Liquor Sales Tax Project - Scenario 1"
   ]
  },
  {
   "cell_type": "markdown",
   "metadata": {},
   "source": [
    "## Data Intake"
   ]
  },
  {
   "cell_type": "code",
   "execution_count": 1,
   "metadata": {
    "collapsed": false
   },
   "outputs": [],
   "source": [
    "#Adjust the file path as appropriate\n",
    "import pandas as pd\n",
    "\n",
    "## Load the data into a DataFrame\n",
    "df = pd.read_csv('Iowa_Liquor_sales_sample_10pct.csv')\n",
    "df.head()\n",
    "\n",
    "## Transform the dates to the appropriate format\n",
    "df[\"Date\"] = pd.to_datetime(df[\"Date\"], format=\"%m/%d/%Y\")"
   ]
  },
  {
   "cell_type": "code",
   "execution_count": 2,
   "metadata": {
    "collapsed": false
   },
   "outputs": [
    {
     "data": {
      "text/html": [
       "<div>\n",
       "<table border=\"1\" class=\"dataframe\">\n",
       "  <thead>\n",
       "    <tr style=\"text-align: right;\">\n",
       "      <th></th>\n",
       "      <th>Date</th>\n",
       "      <th>Store Number</th>\n",
       "      <th>City</th>\n",
       "      <th>Zip Code</th>\n",
       "      <th>County Number</th>\n",
       "      <th>County</th>\n",
       "      <th>Category</th>\n",
       "      <th>Category Name</th>\n",
       "      <th>Vendor Number</th>\n",
       "      <th>Item Number</th>\n",
       "      <th>Item Description</th>\n",
       "      <th>Bottle Volume (ml)</th>\n",
       "      <th>State Bottle Cost</th>\n",
       "      <th>State Bottle Retail</th>\n",
       "      <th>Bottles Sold</th>\n",
       "      <th>Sale (Dollars)</th>\n",
       "      <th>Volume Sold (Liters)</th>\n",
       "      <th>Volume Sold (Gallons)</th>\n",
       "    </tr>\n",
       "  </thead>\n",
       "  <tbody>\n",
       "    <tr>\n",
       "      <th>0</th>\n",
       "      <td>2015-11-04</td>\n",
       "      <td>3717</td>\n",
       "      <td>SUMNER</td>\n",
       "      <td>50674</td>\n",
       "      <td>9.0</td>\n",
       "      <td>Bremer</td>\n",
       "      <td>1051100.0</td>\n",
       "      <td>APRICOT BRANDIES</td>\n",
       "      <td>55</td>\n",
       "      <td>54436</td>\n",
       "      <td>Mr. Boston Apricot Brandy</td>\n",
       "      <td>750</td>\n",
       "      <td>$4.50</td>\n",
       "      <td>$6.75</td>\n",
       "      <td>12</td>\n",
       "      <td>$81.00</td>\n",
       "      <td>9.0</td>\n",
       "      <td>2.38</td>\n",
       "    </tr>\n",
       "    <tr>\n",
       "      <th>1</th>\n",
       "      <td>2016-03-02</td>\n",
       "      <td>2614</td>\n",
       "      <td>DAVENPORT</td>\n",
       "      <td>52807</td>\n",
       "      <td>82.0</td>\n",
       "      <td>Scott</td>\n",
       "      <td>1011100.0</td>\n",
       "      <td>BLENDED WHISKIES</td>\n",
       "      <td>395</td>\n",
       "      <td>27605</td>\n",
       "      <td>Tin Cup</td>\n",
       "      <td>750</td>\n",
       "      <td>$13.75</td>\n",
       "      <td>$20.63</td>\n",
       "      <td>2</td>\n",
       "      <td>$41.26</td>\n",
       "      <td>1.5</td>\n",
       "      <td>0.40</td>\n",
       "    </tr>\n",
       "    <tr>\n",
       "      <th>2</th>\n",
       "      <td>2016-02-11</td>\n",
       "      <td>2106</td>\n",
       "      <td>CEDAR FALLS</td>\n",
       "      <td>50613</td>\n",
       "      <td>7.0</td>\n",
       "      <td>Black Hawk</td>\n",
       "      <td>1011200.0</td>\n",
       "      <td>STRAIGHT BOURBON WHISKIES</td>\n",
       "      <td>65</td>\n",
       "      <td>19067</td>\n",
       "      <td>Jim Beam</td>\n",
       "      <td>1000</td>\n",
       "      <td>$12.59</td>\n",
       "      <td>$18.89</td>\n",
       "      <td>24</td>\n",
       "      <td>$453.36</td>\n",
       "      <td>24.0</td>\n",
       "      <td>6.34</td>\n",
       "    </tr>\n",
       "    <tr>\n",
       "      <th>3</th>\n",
       "      <td>2016-02-03</td>\n",
       "      <td>2501</td>\n",
       "      <td>AMES</td>\n",
       "      <td>50010</td>\n",
       "      <td>85.0</td>\n",
       "      <td>Story</td>\n",
       "      <td>1071100.0</td>\n",
       "      <td>AMERICAN COCKTAILS</td>\n",
       "      <td>395</td>\n",
       "      <td>59154</td>\n",
       "      <td>1800 Ultimate Margarita</td>\n",
       "      <td>1750</td>\n",
       "      <td>$9.50</td>\n",
       "      <td>$14.25</td>\n",
       "      <td>6</td>\n",
       "      <td>$85.50</td>\n",
       "      <td>10.5</td>\n",
       "      <td>2.77</td>\n",
       "    </tr>\n",
       "    <tr>\n",
       "      <th>4</th>\n",
       "      <td>2015-08-18</td>\n",
       "      <td>3654</td>\n",
       "      <td>BELMOND</td>\n",
       "      <td>50421</td>\n",
       "      <td>99.0</td>\n",
       "      <td>Wright</td>\n",
       "      <td>1031080.0</td>\n",
       "      <td>VODKA 80 PROOF</td>\n",
       "      <td>297</td>\n",
       "      <td>35918</td>\n",
       "      <td>Five O'clock Vodka</td>\n",
       "      <td>1750</td>\n",
       "      <td>$7.20</td>\n",
       "      <td>$10.80</td>\n",
       "      <td>12</td>\n",
       "      <td>$129.60</td>\n",
       "      <td>21.0</td>\n",
       "      <td>5.55</td>\n",
       "    </tr>\n",
       "  </tbody>\n",
       "</table>\n",
       "</div>"
      ],
      "text/plain": [
       "        Date  Store Number         City Zip Code  County Number      County  \\\n",
       "0 2015-11-04          3717       SUMNER    50674            9.0      Bremer   \n",
       "1 2016-03-02          2614    DAVENPORT    52807           82.0       Scott   \n",
       "2 2016-02-11          2106  CEDAR FALLS    50613            7.0  Black Hawk   \n",
       "3 2016-02-03          2501         AMES    50010           85.0       Story   \n",
       "4 2015-08-18          3654      BELMOND    50421           99.0      Wright   \n",
       "\n",
       "    Category              Category Name  Vendor Number  Item Number  \\\n",
       "0  1051100.0           APRICOT BRANDIES             55        54436   \n",
       "1  1011100.0           BLENDED WHISKIES            395        27605   \n",
       "2  1011200.0  STRAIGHT BOURBON WHISKIES             65        19067   \n",
       "3  1071100.0         AMERICAN COCKTAILS            395        59154   \n",
       "4  1031080.0             VODKA 80 PROOF            297        35918   \n",
       "\n",
       "            Item Description  Bottle Volume (ml) State Bottle Cost  \\\n",
       "0  Mr. Boston Apricot Brandy                 750             $4.50   \n",
       "1                    Tin Cup                 750            $13.75   \n",
       "2                   Jim Beam                1000            $12.59   \n",
       "3    1800 Ultimate Margarita                1750             $9.50   \n",
       "4         Five O'clock Vodka                1750             $7.20   \n",
       "\n",
       "  State Bottle Retail  Bottles Sold Sale (Dollars)  Volume Sold (Liters)  \\\n",
       "0               $6.75            12         $81.00                   9.0   \n",
       "1              $20.63             2         $41.26                   1.5   \n",
       "2              $18.89            24        $453.36                  24.0   \n",
       "3              $14.25             6         $85.50                  10.5   \n",
       "4              $10.80            12        $129.60                  21.0   \n",
       "\n",
       "   Volume Sold (Gallons)  \n",
       "0                   2.38  \n",
       "1                   0.40  \n",
       "2                   6.34  \n",
       "3                   2.77  \n",
       "4                   5.55  "
      ]
     },
     "execution_count": 2,
     "metadata": {},
     "output_type": "execute_result"
    }
   ],
   "source": [
    "#View a sample of the data\n",
    "df.head()"
   ]
  },
  {
   "cell_type": "code",
   "execution_count": 4,
   "metadata": {
    "collapsed": false
   },
   "outputs": [],
   "source": [
    "#Rename the columns to fit standard convention. Used lowercase and underscore\n",
    "col = {'Date':'date', 'Store Number':'store_number', 'City':'city', 'Zip Code':'zip_code', 'County Number':'county_number','Category':'category', 'Category Name':'category_name',\n",
    "          'Vendor Name':'vendor_name', 'Item Number':'item_number', 'Item Description':'item_description', 'Bottle Volume (ml)':'bottle_volume', 'State Bottle Cost':'state_bottle_cost',\n",
    "          'State Bottle Retail':'state_retail', 'Bottles Sold':'bottles_sold', 'Sale (Dollars)': 'sale_dollars', 'Volume Sold (Liters)':'volume_sold_liters',\n",
    "          'Volume Sold (Gallons)':'volume_sold_gallons'}\n",
    "df.rename(columns = col, inplace = True)"
   ]
  },
  {
   "cell_type": "code",
   "execution_count": 5,
   "metadata": {
    "collapsed": false
   },
   "outputs": [],
   "source": [
    "#Convert cost and sale columns to float\n",
    "to_float = lambda x: float(x[1:])\n",
    "\n",
    "df.state_bottle_cost = df.state_bottle_cost.apply(to_float)\n",
    "df.state_retail = df.state_retail.apply(to_float)\n",
    "df.sale_dollars = df.sale_dollars.apply(to_float)\n"
   ]
  },
  {
   "cell_type": "code",
   "execution_count": 6,
   "metadata": {
    "collapsed": false,
    "scrolled": true
   },
   "outputs": [
    {
     "data": {
      "text/plain": [
       "date                   datetime64[ns]\n",
       "store_number                    int64\n",
       "city                           object\n",
       "zip_code                       object\n",
       "county_number                 float64\n",
       "County                         object\n",
       "category                      float64\n",
       "category_name                  object\n",
       "Vendor Number                   int64\n",
       "item_number                     int64\n",
       "item_description               object\n",
       "bottle_volume                   int64\n",
       "state_bottle_cost             float64\n",
       "state_retail                  float64\n",
       "bottles_sold                    int64\n",
       "sale_dollars                  float64\n",
       "volume_sold_liters            float64\n",
       "volume_sold_gallons           float64\n",
       "dtype: object"
      ]
     },
     "execution_count": 6,
     "metadata": {},
     "output_type": "execute_result"
    }
   ],
   "source": [
    "#Ensure that all columns are in the correct format\n",
    "df.dtypes"
   ]
  },
  {
   "cell_type": "markdown",
   "metadata": {},
   "source": [
    "# Data Cleaning"
   ]
  },
  {
   "cell_type": "code",
   "execution_count": 7,
   "metadata": {
    "collapsed": true
   },
   "outputs": [],
   "source": [
    "import seaborn as sns\n",
    "import matplotlib.pyplot as plt"
   ]
  },
  {
   "cell_type": "code",
   "execution_count": 8,
   "metadata": {
    "collapsed": false
   },
   "outputs": [
    {
     "data": {
      "text/plain": [
       "(270955, 18)"
      ]
     },
     "execution_count": 8,
     "metadata": {},
     "output_type": "execute_result"
    }
   ],
   "source": [
    "df.shape"
   ]
  },
  {
   "cell_type": "code",
   "execution_count": 9,
   "metadata": {
    "collapsed": false
   },
   "outputs": [
    {
     "data": {
      "text/plain": [
       "date                      0\n",
       "store_number              0\n",
       "city                      0\n",
       "zip_code                  0\n",
       "county_number          1077\n",
       "County                 1077\n",
       "category                 68\n",
       "category_name           632\n",
       "Vendor Number             0\n",
       "item_number               0\n",
       "item_description          0\n",
       "bottle_volume             0\n",
       "state_bottle_cost         0\n",
       "state_retail              0\n",
       "bottles_sold              0\n",
       "sale_dollars              0\n",
       "volume_sold_liters        0\n",
       "volume_sold_gallons       0\n",
       "dtype: int64"
      ]
     },
     "execution_count": 9,
     "metadata": {},
     "output_type": "execute_result"
    }
   ],
   "source": [
    "df.isnull().sum()"
   ]
  },
  {
   "cell_type": "code",
   "execution_count": 10,
   "metadata": {
    "collapsed": false
   },
   "outputs": [],
   "source": [
    "#The nulls are categorical data. There is no obvious fill for them and the number of rows are small compared to the total\n",
    "df.dropna(inplace = True) "
   ]
  },
  {
   "cell_type": "code",
   "execution_count": 11,
   "metadata": {
    "collapsed": false
   },
   "outputs": [
    {
     "data": {
      "text/plain": [
       "date                   0\n",
       "store_number           0\n",
       "city                   0\n",
       "zip_code               0\n",
       "county_number          0\n",
       "County                 0\n",
       "category               0\n",
       "category_name          0\n",
       "Vendor Number          0\n",
       "item_number            0\n",
       "item_description       0\n",
       "bottle_volume          0\n",
       "state_bottle_cost      0\n",
       "state_retail           0\n",
       "bottles_sold           0\n",
       "sale_dollars           0\n",
       "volume_sold_liters     0\n",
       "volume_sold_gallons    0\n",
       "dtype: int64"
      ]
     },
     "execution_count": 11,
     "metadata": {},
     "output_type": "execute_result"
    }
   ],
   "source": [
    "df.isnull().sum()"
   ]
  },
  {
   "cell_type": "markdown",
   "metadata": {},
   "source": [
    "# Data Exploration"
   ]
  },
  {
   "cell_type": "code",
   "execution_count": 12,
   "metadata": {
    "collapsed": false
   },
   "outputs": [
    {
     "name": "stdout",
     "output_type": "stream",
     "text": [
      "Store count (1378L,)\n",
      "Category count (72L,)\n",
      "City count (382L,)\n",
      "County count (99L,)\n",
      "Vendor count (115L,)\n",
      "Item count (2677L,)\n"
     ]
    }
   ],
   "source": [
    "print 'Store count', df.store_number.value_counts().shape\n",
    "print 'Category count', df.category.value_counts().shape\n",
    "print 'City count', df.city.value_counts().shape\n",
    "print 'County count', df['County'].value_counts().shape\n",
    "print 'Vendor count', df['Vendor Number'].value_counts().shape\n",
    "print 'Item count', df.item_number.value_counts().shape\n",
    "\n",
    "#There are many unique values in these categorical variables. "
   ]
  },
  {
   "cell_type": "code",
   "execution_count": 13,
   "metadata": {
    "collapsed": false
   },
   "outputs": [
    {
     "data": {
      "text/html": [
       "<div>\n",
       "<table border=\"1\" class=\"dataframe\">\n",
       "  <thead>\n",
       "    <tr style=\"text-align: right;\">\n",
       "      <th></th>\n",
       "      <th>store_number</th>\n",
       "      <th>county_number</th>\n",
       "      <th>category</th>\n",
       "      <th>Vendor Number</th>\n",
       "      <th>item_number</th>\n",
       "      <th>bottle_volume</th>\n",
       "      <th>state_bottle_cost</th>\n",
       "      <th>state_retail</th>\n",
       "      <th>bottles_sold</th>\n",
       "      <th>sale_dollars</th>\n",
       "      <th>volume_sold_liters</th>\n",
       "      <th>volume_sold_gallons</th>\n",
       "    </tr>\n",
       "  </thead>\n",
       "  <tbody>\n",
       "    <tr>\n",
       "      <th>count</th>\n",
       "      <td>269258.000000</td>\n",
       "      <td>269258.000000</td>\n",
       "      <td>2.692580e+05</td>\n",
       "      <td>269258.00000</td>\n",
       "      <td>269258.000000</td>\n",
       "      <td>269258.000000</td>\n",
       "      <td>269258.000000</td>\n",
       "      <td>269258.000000</td>\n",
       "      <td>269258.000000</td>\n",
       "      <td>269258.000000</td>\n",
       "      <td>269258.000000</td>\n",
       "      <td>269258.000000</td>\n",
       "    </tr>\n",
       "    <tr>\n",
       "      <th>mean</th>\n",
       "      <td>3587.695311</td>\n",
       "      <td>57.229642</td>\n",
       "      <td>1.043866e+06</td>\n",
       "      <td>256.36045</td>\n",
       "      <td>45944.813164</td>\n",
       "      <td>925.217375</td>\n",
       "      <td>9.763293</td>\n",
       "      <td>14.660848</td>\n",
       "      <td>9.874028</td>\n",
       "      <td>128.828546</td>\n",
       "      <td>8.991069</td>\n",
       "      <td>2.375397</td>\n",
       "    </tr>\n",
       "    <tr>\n",
       "      <th>std</th>\n",
       "      <td>946.505088</td>\n",
       "      <td>27.338810</td>\n",
       "      <td>5.021834e+04</td>\n",
       "      <td>140.98313</td>\n",
       "      <td>52557.185155</td>\n",
       "      <td>492.837459</td>\n",
       "      <td>7.039787</td>\n",
       "      <td>10.559164</td>\n",
       "      <td>24.072335</td>\n",
       "      <td>383.477046</td>\n",
       "      <td>28.963204</td>\n",
       "      <td>7.651262</td>\n",
       "    </tr>\n",
       "    <tr>\n",
       "      <th>min</th>\n",
       "      <td>2106.000000</td>\n",
       "      <td>1.000000</td>\n",
       "      <td>1.011100e+06</td>\n",
       "      <td>10.00000</td>\n",
       "      <td>168.000000</td>\n",
       "      <td>50.000000</td>\n",
       "      <td>0.890000</td>\n",
       "      <td>1.340000</td>\n",
       "      <td>1.000000</td>\n",
       "      <td>1.340000</td>\n",
       "      <td>0.100000</td>\n",
       "      <td>0.030000</td>\n",
       "    </tr>\n",
       "    <tr>\n",
       "      <th>25%</th>\n",
       "      <td>2604.000000</td>\n",
       "      <td>31.000000</td>\n",
       "      <td>1.012200e+06</td>\n",
       "      <td>115.00000</td>\n",
       "      <td>26827.000000</td>\n",
       "      <td>750.000000</td>\n",
       "      <td>5.500000</td>\n",
       "      <td>8.250000</td>\n",
       "      <td>2.000000</td>\n",
       "      <td>30.420000</td>\n",
       "      <td>1.500000</td>\n",
       "      <td>0.400000</td>\n",
       "    </tr>\n",
       "    <tr>\n",
       "      <th>50%</th>\n",
       "      <td>3721.000000</td>\n",
       "      <td>62.000000</td>\n",
       "      <td>1.031200e+06</td>\n",
       "      <td>260.00000</td>\n",
       "      <td>38176.000000</td>\n",
       "      <td>750.000000</td>\n",
       "      <td>8.000000</td>\n",
       "      <td>12.110000</td>\n",
       "      <td>6.000000</td>\n",
       "      <td>70.560000</td>\n",
       "      <td>5.250000</td>\n",
       "      <td>1.390000</td>\n",
       "    </tr>\n",
       "    <tr>\n",
       "      <th>75%</th>\n",
       "      <td>4376.000000</td>\n",
       "      <td>77.000000</td>\n",
       "      <td>1.062310e+06</td>\n",
       "      <td>380.00000</td>\n",
       "      <td>64573.000000</td>\n",
       "      <td>1000.000000</td>\n",
       "      <td>11.920000</td>\n",
       "      <td>17.880000</td>\n",
       "      <td>12.000000</td>\n",
       "      <td>135.000000</td>\n",
       "      <td>10.500000</td>\n",
       "      <td>2.770000</td>\n",
       "    </tr>\n",
       "    <tr>\n",
       "      <th>max</th>\n",
       "      <td>9023.000000</td>\n",
       "      <td>99.000000</td>\n",
       "      <td>1.701100e+06</td>\n",
       "      <td>978.00000</td>\n",
       "      <td>995507.000000</td>\n",
       "      <td>6000.000000</td>\n",
       "      <td>425.000000</td>\n",
       "      <td>637.500000</td>\n",
       "      <td>2508.000000</td>\n",
       "      <td>36392.400000</td>\n",
       "      <td>2508.000000</td>\n",
       "      <td>662.540000</td>\n",
       "    </tr>\n",
       "  </tbody>\n",
       "</table>\n",
       "</div>"
      ],
      "text/plain": [
       "        store_number  county_number      category  Vendor Number  \\\n",
       "count  269258.000000  269258.000000  2.692580e+05   269258.00000   \n",
       "mean     3587.695311      57.229642  1.043866e+06      256.36045   \n",
       "std       946.505088      27.338810  5.021834e+04      140.98313   \n",
       "min      2106.000000       1.000000  1.011100e+06       10.00000   \n",
       "25%      2604.000000      31.000000  1.012200e+06      115.00000   \n",
       "50%      3721.000000      62.000000  1.031200e+06      260.00000   \n",
       "75%      4376.000000      77.000000  1.062310e+06      380.00000   \n",
       "max      9023.000000      99.000000  1.701100e+06      978.00000   \n",
       "\n",
       "         item_number  bottle_volume  state_bottle_cost   state_retail  \\\n",
       "count  269258.000000  269258.000000      269258.000000  269258.000000   \n",
       "mean    45944.813164     925.217375           9.763293      14.660848   \n",
       "std     52557.185155     492.837459           7.039787      10.559164   \n",
       "min       168.000000      50.000000           0.890000       1.340000   \n",
       "25%     26827.000000     750.000000           5.500000       8.250000   \n",
       "50%     38176.000000     750.000000           8.000000      12.110000   \n",
       "75%     64573.000000    1000.000000          11.920000      17.880000   \n",
       "max    995507.000000    6000.000000         425.000000     637.500000   \n",
       "\n",
       "        bottles_sold   sale_dollars  volume_sold_liters  volume_sold_gallons  \n",
       "count  269258.000000  269258.000000       269258.000000        269258.000000  \n",
       "mean        9.874028     128.828546            8.991069             2.375397  \n",
       "std        24.072335     383.477046           28.963204             7.651262  \n",
       "min         1.000000       1.340000            0.100000             0.030000  \n",
       "25%         2.000000      30.420000            1.500000             0.400000  \n",
       "50%         6.000000      70.560000            5.250000             1.390000  \n",
       "75%        12.000000     135.000000           10.500000             2.770000  \n",
       "max      2508.000000   36392.400000         2508.000000           662.540000  "
      ]
     },
     "execution_count": 13,
     "metadata": {},
     "output_type": "execute_result"
    }
   ],
   "source": [
    "df.describe()"
   ]
  },
  {
   "cell_type": "code",
   "execution_count": 14,
   "metadata": {
    "collapsed": false
   },
   "outputs": [],
   "source": [
    "import seaborn as sns\n",
    "import matplotlib\n",
    "import scipy.stats as stats\n",
    "%matplotlib inline"
   ]
  },
  {
   "cell_type": "code",
   "execution_count": 15,
   "metadata": {
    "collapsed": false
   },
   "outputs": [
    {
     "name": "stdout",
     "output_type": "stream",
     "text": [
      "NormaltestResult(statistic=46800.305083157538, pvalue=0.0)\n"
     ]
    },
    {
     "data": {
      "image/png": "[encoded data removed]",
      "text/plain": [
       "<matplotlib.figure.Figure at 0xd4b7630>"
      ]
     },
     "metadata": {},
     "output_type": "display_data"
    }
   ],
   "source": [
    "#Plot and perform normal tests to understand skew\n",
    "sns.boxplot(df.bottle_volume)\n",
    "print stats.normaltest(df.bottle_volume)"
   ]
  },
  {
   "cell_type": "code",
   "execution_count": 16,
   "metadata": {
    "collapsed": false
   },
   "outputs": [
    {
     "data": {
      "image/png": "[encoded data removed]",
      "text/plain": [
       "<matplotlib.figure.Figure at 0xd4e0ba8>"
      ]
     },
     "metadata": {},
     "output_type": "display_data"
    },
    {
     "name": "stdout",
     "output_type": "stream",
     "text": [
      "NormaltestResult(statistic=659474.13060179283, pvalue=0.0)\n"
     ]
    },
    {
     "data": {
      "image/png": "[encoded data removed]",
      "text/plain": [
       "<matplotlib.figure.Figure at 0x10c15828>"
      ]
     },
     "metadata": {},
     "output_type": "display_data"
    }
   ],
   "source": [
    "sns.boxplot(df.bottles_sold)\n",
    "plt.show()\n",
    "plt.hist(df.bottles_sold)\n",
    "print stats.normaltest(df.bottles_sold)"
   ]
  },
  {
   "cell_type": "code",
   "execution_count": 17,
   "metadata": {
    "collapsed": false
   },
   "outputs": [
    {
     "data": {
      "image/png": "[encoded data removed]",
      "text/plain": [
       "<matplotlib.figure.Figure at 0x88ee518>"
      ]
     },
     "metadata": {},
     "output_type": "display_data"
    },
    {
     "name": "stdout",
     "output_type": "stream",
     "text": [
      "NormaltestResult(statistic=658489.41494200623, pvalue=0.0)\n"
     ]
    },
    {
     "data": {
      "image/png": "[encoded data removed]",
      "text/plain": [
       "<matplotlib.figure.Figure at 0x11162128>"
      ]
     },
     "metadata": {},
     "output_type": "display_data"
    }
   ],
   "source": [
    "sns.boxplot(df.sale_dollars)\n",
    "plt.show()\n",
    "plt.hist(df.sale_dollars)\n",
    "print stats.normaltest(df.sale_dollars)"
   ]
  },
  {
   "cell_type": "code",
   "execution_count": 18,
   "metadata": {
    "collapsed": false
   },
   "outputs": [
    {
     "data": {
      "image/png": "[encoded data removed]",
      "text/plain": [
       "<matplotlib.figure.Figure at 0x10f34c18>"
      ]
     },
     "metadata": {},
     "output_type": "display_data"
    },
    {
     "name": "stdout",
     "output_type": "stream",
     "text": [
      "NormaltestResult(statistic=321741.66030413087, pvalue=0.0)\n"
     ]
    },
    {
     "data": {
      "image/png": "[encoded data removed]",
      "text/plain": [
       "<matplotlib.figure.Figure at 0x116cb518>"
      ]
     },
     "metadata": {},
     "output_type": "display_data"
    }
   ],
   "source": [
    "sns.boxplot(df.state_bottle_cost)\n",
    "plt.show()\n",
    "plt.hist(df.state_bottle_cost)\n",
    "print stats.normaltest(df.state_bottle_cost)"
   ]
  },
  {
   "cell_type": "code",
   "execution_count": 19,
   "metadata": {
    "collapsed": false
   },
   "outputs": [
    {
     "name": "stdout",
     "output_type": "stream",
     "text": [
      "NormaltestResult(statistic=321694.89263354917, pvalue=0.0)\n"
     ]
    },
    {
     "data": {
      "image/png": "[encoded data removed]",
      "text/plain": [
       "<matplotlib.figure.Figure at 0x11477c50>"
      ]
     },
     "metadata": {},
     "output_type": "display_data"
    }
   ],
   "source": [
    "sns.boxplot(df.state_retail)\n",
    "print stats.normaltest(df.state_retail)"
   ]
  },
  {
   "cell_type": "code",
   "execution_count": 20,
   "metadata": {
    "collapsed": false
   },
   "outputs": [
    {
     "name": "stdout",
     "output_type": "stream",
     "text": [
      "NormaltestResult(statistic=670144.35194108635, pvalue=0.0)\n"
     ]
    },
    {
     "data": {
      "image/png": "[encoded data removed]",
      "text/plain": [
       "<matplotlib.figure.Figure at 0x11482240>"
      ]
     },
     "metadata": {},
     "output_type": "display_data"
    }
   ],
   "source": [
    "sns.boxplot(df.volume_sold_gallons)\n",
    "print stats.normaltest(df.volume_sold_gallons)"
   ]
  },
  {
   "cell_type": "markdown",
   "metadata": {},
   "source": [
    "There are many outliers in sales, volumes, and costs. None of the distributions are normal as seen in the very low p values."
   ]
  },
  {
   "cell_type": "markdown",
   "metadata": {},
   "source": [
    "# Summary Tables by Store for 2015 and 2016"
   ]
  },
  {
   "cell_type": "code",
   "execution_count": 21,
   "metadata": {
    "collapsed": false
   },
   "outputs": [
    {
     "name": "stdout",
     "output_type": "stream",
     "text": [
      "2015-01-05 00:00:00\n",
      "2016-03-31 00:00:00\n"
     ]
    }
   ],
   "source": [
    "#Determine the date range. The data does not have data from January 1 to January 4 2015\n",
    "print df.date.min() \n",
    "print df.date.max()"
   ]
  },
  {
   "cell_type": "code",
   "execution_count": 22,
   "metadata": {
    "collapsed": false
   },
   "outputs": [],
   "source": [
    "df['year'] = df.date.map(lambda x: x.year)\n",
    "df['month'] = df.date.map(lambda x: x.month)\n",
    "\n",
    "def quarter(x):\n",
    "    if x <4:\n",
    "        return 1\n",
    "    elif x <7:\n",
    "        return 2\n",
    "    elif x < 10:\n",
    "        return 3\n",
    "    else: return 4\n",
    "df['quarter'] = df.month.map(quarter)"
   ]
  },
  {
   "cell_type": "code",
   "execution_count": 23,
   "metadata": {
    "collapsed": false
   },
   "outputs": [],
   "source": [
    "#Determine yearly sales by store\n",
    "yearly_sales = df.groupby(['year','store_number']).sale_dollars.sum().reset_index()"
   ]
  },
  {
   "cell_type": "code",
   "execution_count": 24,
   "metadata": {
    "collapsed": false
   },
   "outputs": [],
   "source": [
    "#Rename the columns\n",
    "yearly_sales.rename(columns ={'sale_dollars':'yearly sales by store'},inplace=True)"
   ]
  },
  {
   "cell_type": "code",
   "execution_count": 25,
   "metadata": {
    "collapsed": true
   },
   "outputs": [],
   "source": [
    "#Determine first quarter 2015 sales\n",
    "first_quarter2015_sales = df[(df['year'] == 2015) & (df['quarter'] ==1)].groupby(['year','store_number', 'quarter']).sale_dollars.sum().reset_index()"
   ]
  },
  {
   "cell_type": "code",
   "execution_count": 26,
   "metadata": {
    "collapsed": true
   },
   "outputs": [],
   "source": [
    "#Rename the columns\n",
    "first_quarter2015_sales.rename(columns ={'sale_dollars':'first_quarter2015_sales_by_store'},inplace=True)"
   ]
  },
  {
   "cell_type": "code",
   "execution_count": 27,
   "metadata": {
    "collapsed": true
   },
   "outputs": [],
   "source": [
    "#Create dataframe with yearly sales and first quarter sales by store\n",
    "total_2015 = pd.merge(first_quarter2015_sales, yearly_sales, on = ['year','store_number'], how = 'left')"
   ]
  },
  {
   "cell_type": "code",
   "execution_count": 28,
   "metadata": {
    "collapsed": false
   },
   "outputs": [],
   "source": [
    "#Repeat process for different metrics to create 2015 summary table\n",
    "bottle_vol = df.groupby(['year','store_number']).bottle_volume.sum().reset_index()\n",
    "bottle_vol.rename(columns ={'bottle_volume':'bottle_volume_by_year'},inplace=True)\n",
    "\n",
    "bottle_sold = df.groupby(['year','store_number']).bottles_sold.sum().reset_index()\n",
    "bottle_sold.rename(columns ={'bottles_sold':'bottles_sold_by_year'},inplace=True)\n",
    "\n",
    "state_bottle_cost = df.groupby(['year','store_number']).state_bottle_cost.sum().reset_index()\n",
    "state_bottle_cost.rename(columns ={'state_bottle_cost':'state_bottle_cost_by_year'},inplace=True)\n",
    "\n",
    "state_retail = df.groupby(['year','store_number']).state_retail.sum().reset_index()\n",
    "state_retail.rename(columns ={'state_retail':'state_retail_by_year'},inplace=True)\n",
    "\n",
    "volume_sold_gallons = df.groupby(['year','store_number']).volume_sold_gallons.sum().reset_index()\n",
    "volume_sold_gallons.rename(columns ={'volume_sold_gallons':'volume_sold_gallons_by_year'},inplace=True)\n",
    "\n",
    "volume_sold_liters = df.groupby(['year','store_number']).volume_sold_liters.sum().reset_index()\n",
    "volume_sold_liters.rename(columns ={'volume_sold_liters':'volume_sold_liters_by_year'},inplace=True)\n",
    "\n",
    "total_2015 = pd.merge(total_2015, bottle_vol, on = ['year','store_number'], how = 'left')\n",
    "total_2015 = pd.merge(total_2015, bottle_sold, on = ['year','store_number'], how = 'left')\n",
    "total_2015 = pd.merge(total_2015, state_bottle_cost, on = ['year','store_number'], how = 'left')\n",
    "total_2015 = pd.merge(total_2015, state_retail, on = ['year','store_number'], how = 'left')\n",
    "total_2015 = pd.merge(total_2015, volume_sold_gallons, on = ['year','store_number'], how = 'left')\n",
    "total_2015 = pd.merge(total_2015, volume_sold_liters, on = ['year','store_number'], how = 'left')\n"
   ]
  },
  {
   "cell_type": "code",
   "execution_count": 30,
   "metadata": {
    "collapsed": false
   },
   "outputs": [],
   "source": [
    "#Summary table for 2016\n",
    "first_quarter2016_sales = df[(df['year'] == 2016) & (df['quarter'] ==1)].groupby(['year','store_number', 'quarter']).sale_dollars.sum().reset_index()\n",
    "first_quarter2016_sales.rename(columns ={'sale_dollars':'first_quarter2016_sales_by_store'},inplace=True)\n",
    "total_2016 = pd.merge(first_quarter2016_sales, yearly_sales, on = ['year','store_number'], how = 'left')\n",
    "bottle_vol = df.groupby(['year','store_number']).bottle_volume.sum().reset_index()\n",
    "bottle_vol.rename(columns ={'bottle_volume':'bottle_volume_by_year'},inplace=True)\n",
    "\n",
    "bottle_sold = df.groupby(['year','store_number']).bottles_sold.sum().reset_index()\n",
    "bottle_sold.rename(columns ={'bottles_sold':'bottles_sold_by_year'},inplace=True)\n",
    "\n",
    "state_bottle_cost = df.groupby(['year','store_number']).state_bottle_cost.sum().reset_index()\n",
    "state_bottle_cost.rename(columns ={'state_bottle_cost':'state_bottle_cost_by_year'},inplace=True)\n",
    "\n",
    "state_retail = df.groupby(['year','store_number']).state_retail.sum().reset_index()\n",
    "state_retail.rename(columns ={'state_retail':'state_retail_by_year'},inplace=True)\n",
    "\n",
    "volume_sold_gallons = df.groupby(['year','store_number']).volume_sold_gallons.sum().reset_index()\n",
    "volume_sold_gallons.rename(columns ={'volume_sold_gallons':'volume_sold_gallons_by_year'},inplace=True)\n",
    "\n",
    "volume_sold_liters = df.groupby(['year','store_number']).volume_sold_liters.sum().reset_index()\n",
    "volume_sold_liters.rename(columns ={'volume_sold_liters':'volume_sold_liters_by_year'},inplace=True)\n",
    "\n",
    "total_2016 = pd.merge(first_quarter2016_sales, yearly_sales, on = ['year','store_number'], how = 'left')\n",
    "\n",
    "total_2016 = pd.merge(total_2016, bottle_vol, on = ['year','store_number'], how = 'left')\n",
    "total_2016 = pd.merge(total_2016, bottle_sold, on = ['year','store_number'], how = 'left')\n",
    "total_2016 = pd.merge(total_2016, state_bottle_cost, on = ['year','store_number'], how = 'left')\n",
    "total_2016 = pd.merge(total_2016, state_retail, on = ['year','store_number'], how = 'left')\n",
    "total_2016 = pd.merge(total_2016, volume_sold_gallons, on = ['year','store_number'], how = 'left')\n",
    "total_2016 = pd.merge(total_2016, volume_sold_liters, on = ['year','store_number'], how = 'left')"
   ]
  },
  {
   "cell_type": "code",
   "execution_count": 31,
   "metadata": {
    "collapsed": false
   },
   "outputs": [
    {
     "data": {
      "text/html": [
       "<div>\n",
       "<table border=\"1\" class=\"dataframe\">\n",
       "  <thead>\n",
       "    <tr style=\"text-align: right;\">\n",
       "      <th></th>\n",
       "      <th>year</th>\n",
       "      <th>store_number</th>\n",
       "      <th>quarter</th>\n",
       "      <th>first_quarter2015_sales_by_store</th>\n",
       "      <th>yearly sales by store</th>\n",
       "      <th>bottle_volume_by_year</th>\n",
       "      <th>bottles_sold_by_year</th>\n",
       "      <th>state_bottle_cost_by_year</th>\n",
       "      <th>state_retail_by_year</th>\n",
       "      <th>volume_sold_gallons_by_year</th>\n",
       "      <th>volume_sold_liters_by_year</th>\n",
       "    </tr>\n",
       "  </thead>\n",
       "  <tbody>\n",
       "    <tr>\n",
       "      <th>0</th>\n",
       "      <td>2015</td>\n",
       "      <td>2106</td>\n",
       "      <td>1</td>\n",
       "      <td>39287.29</td>\n",
       "      <td>146038.70</td>\n",
       "      <td>477600</td>\n",
       "      <td>10355</td>\n",
       "      <td>5417.16</td>\n",
       "      <td>8131.82</td>\n",
       "      <td>2568.16</td>\n",
       "      <td>9719.85</td>\n",
       "    </tr>\n",
       "    <tr>\n",
       "      <th>1</th>\n",
       "      <td>2015</td>\n",
       "      <td>2113</td>\n",
       "      <td>1</td>\n",
       "      <td>2833.25</td>\n",
       "      <td>9310.22</td>\n",
       "      <td>139125</td>\n",
       "      <td>671</td>\n",
       "      <td>1597.97</td>\n",
       "      <td>2398.40</td>\n",
       "      <td>174.29</td>\n",
       "      <td>659.85</td>\n",
       "    </tr>\n",
       "    <tr>\n",
       "      <th>2</th>\n",
       "      <td>2015</td>\n",
       "      <td>2130</td>\n",
       "      <td>1</td>\n",
       "      <td>24272.57</td>\n",
       "      <td>111583.91</td>\n",
       "      <td>363550</td>\n",
       "      <td>7418</td>\n",
       "      <td>3840.70</td>\n",
       "      <td>5763.64</td>\n",
       "      <td>1817.48</td>\n",
       "      <td>6879.37</td>\n",
       "    </tr>\n",
       "    <tr>\n",
       "      <th>3</th>\n",
       "      <td>2015</td>\n",
       "      <td>2152</td>\n",
       "      <td>1</td>\n",
       "      <td>2003.46</td>\n",
       "      <td>7721.08</td>\n",
       "      <td>149500</td>\n",
       "      <td>573</td>\n",
       "      <td>1207.67</td>\n",
       "      <td>1817.16</td>\n",
       "      <td>167.28</td>\n",
       "      <td>633.37</td>\n",
       "    </tr>\n",
       "    <tr>\n",
       "      <th>4</th>\n",
       "      <td>2015</td>\n",
       "      <td>2178</td>\n",
       "      <td>1</td>\n",
       "      <td>5856.41</td>\n",
       "      <td>24324.18</td>\n",
       "      <td>241700</td>\n",
       "      <td>1928</td>\n",
       "      <td>2296.49</td>\n",
       "      <td>3450.41</td>\n",
       "      <td>506.50</td>\n",
       "      <td>1917.12</td>\n",
       "    </tr>\n",
       "  </tbody>\n",
       "</table>\n",
       "</div>"
      ],
      "text/plain": [
       "   year  store_number  quarter  first_quarter2015_sales_by_store  \\\n",
       "0  2015          2106        1                          39287.29   \n",
       "1  2015          2113        1                           2833.25   \n",
       "2  2015          2130        1                          24272.57   \n",
       "3  2015          2152        1                           2003.46   \n",
       "4  2015          2178        1                           5856.41   \n",
       "\n",
       "   yearly sales by store  bottle_volume_by_year  bottles_sold_by_year  \\\n",
       "0              146038.70                 477600                 10355   \n",
       "1                9310.22                 139125                   671   \n",
       "2              111583.91                 363550                  7418   \n",
       "3                7721.08                 149500                   573   \n",
       "4               24324.18                 241700                  1928   \n",
       "\n",
       "   state_bottle_cost_by_year  state_retail_by_year  \\\n",
       "0                    5417.16               8131.82   \n",
       "1                    1597.97               2398.40   \n",
       "2                    3840.70               5763.64   \n",
       "3                    1207.67               1817.16   \n",
       "4                    2296.49               3450.41   \n",
       "\n",
       "   volume_sold_gallons_by_year  volume_sold_liters_by_year  \n",
       "0                      2568.16                     9719.85  \n",
       "1                       174.29                      659.85  \n",
       "2                      1817.48                     6879.37  \n",
       "3                       167.28                      633.37  \n",
       "4                       506.50                     1917.12  "
      ]
     },
     "execution_count": 31,
     "metadata": {},
     "output_type": "execute_result"
    }
   ],
   "source": [
    "total_2015.head()"
   ]
  },
  {
   "cell_type": "code",
   "execution_count": 32,
   "metadata": {
    "collapsed": false
   },
   "outputs": [
    {
     "data": {
      "text/html": [
       "<div>\n",
       "<table border=\"1\" class=\"dataframe\">\n",
       "  <thead>\n",
       "    <tr style=\"text-align: right;\">\n",
       "      <th></th>\n",
       "      <th>year</th>\n",
       "      <th>store_number</th>\n",
       "      <th>quarter</th>\n",
       "      <th>first_quarter2016_sales_by_store</th>\n",
       "      <th>yearly sales by store</th>\n",
       "      <th>bottle_volume_by_year</th>\n",
       "      <th>bottles_sold_by_year</th>\n",
       "      <th>state_bottle_cost_by_year</th>\n",
       "      <th>state_retail_by_year</th>\n",
       "      <th>volume_sold_gallons_by_year</th>\n",
       "      <th>volume_sold_liters_by_year</th>\n",
       "    </tr>\n",
       "  </thead>\n",
       "  <tbody>\n",
       "    <tr>\n",
       "      <th>0</th>\n",
       "      <td>2016</td>\n",
       "      <td>2106</td>\n",
       "      <td>1</td>\n",
       "      <td>30478.75</td>\n",
       "      <td>30478.75</td>\n",
       "      <td>118000</td>\n",
       "      <td>2218</td>\n",
       "      <td>1305.79</td>\n",
       "      <td>1960.55</td>\n",
       "      <td>559.12</td>\n",
       "      <td>2116.25</td>\n",
       "    </tr>\n",
       "    <tr>\n",
       "      <th>1</th>\n",
       "      <td>2016</td>\n",
       "      <td>2113</td>\n",
       "      <td>1</td>\n",
       "      <td>2065.90</td>\n",
       "      <td>2065.90</td>\n",
       "      <td>36500</td>\n",
       "      <td>159</td>\n",
       "      <td>396.25</td>\n",
       "      <td>594.86</td>\n",
       "      <td>46.74</td>\n",
       "      <td>177.00</td>\n",
       "    </tr>\n",
       "    <tr>\n",
       "      <th>2</th>\n",
       "      <td>2016</td>\n",
       "      <td>2130</td>\n",
       "      <td>1</td>\n",
       "      <td>27856.11</td>\n",
       "      <td>27856.11</td>\n",
       "      <td>111825</td>\n",
       "      <td>1726</td>\n",
       "      <td>1242.55</td>\n",
       "      <td>1864.08</td>\n",
       "      <td>411.33</td>\n",
       "      <td>1556.90</td>\n",
       "    </tr>\n",
       "    <tr>\n",
       "      <th>3</th>\n",
       "      <td>2016</td>\n",
       "      <td>2152</td>\n",
       "      <td>1</td>\n",
       "      <td>904.66</td>\n",
       "      <td>904.66</td>\n",
       "      <td>20375</td>\n",
       "      <td>97</td>\n",
       "      <td>165.13</td>\n",
       "      <td>248.34</td>\n",
       "      <td>23.11</td>\n",
       "      <td>87.50</td>\n",
       "    </tr>\n",
       "    <tr>\n",
       "      <th>4</th>\n",
       "      <td>2016</td>\n",
       "      <td>2178</td>\n",
       "      <td>1</td>\n",
       "      <td>5588.50</td>\n",
       "      <td>5588.50</td>\n",
       "      <td>61175</td>\n",
       "      <td>480</td>\n",
       "      <td>537.45</td>\n",
       "      <td>807.09</td>\n",
       "      <td>137.59</td>\n",
       "      <td>520.80</td>\n",
       "    </tr>\n",
       "  </tbody>\n",
       "</table>\n",
       "</div>"
      ],
      "text/plain": [
       "   year  store_number  quarter  first_quarter2016_sales_by_store  \\\n",
       "0  2016          2106        1                          30478.75   \n",
       "1  2016          2113        1                           2065.90   \n",
       "2  2016          2130        1                          27856.11   \n",
       "3  2016          2152        1                            904.66   \n",
       "4  2016          2178        1                           5588.50   \n",
       "\n",
       "   yearly sales by store  bottle_volume_by_year  bottles_sold_by_year  \\\n",
       "0               30478.75                 118000                  2218   \n",
       "1                2065.90                  36500                   159   \n",
       "2               27856.11                 111825                  1726   \n",
       "3                 904.66                  20375                    97   \n",
       "4                5588.50                  61175                   480   \n",
       "\n",
       "   state_bottle_cost_by_year  state_retail_by_year  \\\n",
       "0                    1305.79               1960.55   \n",
       "1                     396.25                594.86   \n",
       "2                    1242.55               1864.08   \n",
       "3                     165.13                248.34   \n",
       "4                     537.45                807.09   \n",
       "\n",
       "   volume_sold_gallons_by_year  volume_sold_liters_by_year  \n",
       "0                       559.12                     2116.25  \n",
       "1                        46.74                      177.00  \n",
       "2                       411.33                     1556.90  \n",
       "3                        23.11                       87.50  \n",
       "4                       137.59                      520.80  "
      ]
     },
     "execution_count": 32,
     "metadata": {},
     "output_type": "execute_result"
    }
   ],
   "source": [
    "total_2016.head()"
   ]
  },
  {
   "cell_type": "markdown",
   "metadata": {},
   "source": [
    "# Data Correlations"
   ]
  },
  {
   "cell_type": "code",
   "execution_count": 33,
   "metadata": {
    "collapsed": false
   },
   "outputs": [
    {
     "data": {
      "text/html": [
       "<div>\n",
       "<table border=\"1\" class=\"dataframe\">\n",
       "  <thead>\n",
       "    <tr style=\"text-align: right;\">\n",
       "      <th></th>\n",
       "      <th>year</th>\n",
       "      <th>store_number</th>\n",
       "      <th>quarter</th>\n",
       "      <th>first_quarter2015_sales_by_store</th>\n",
       "      <th>yearly sales by store</th>\n",
       "      <th>bottle_volume_by_year</th>\n",
       "      <th>bottles_sold_by_year</th>\n",
       "      <th>state_bottle_cost_by_year</th>\n",
       "      <th>state_retail_by_year</th>\n",
       "      <th>volume_sold_gallons_by_year</th>\n",
       "      <th>volume_sold_liters_by_year</th>\n",
       "    </tr>\n",
       "  </thead>\n",
       "  <tbody>\n",
       "    <tr>\n",
       "      <th>year</th>\n",
       "      <td>NaN</td>\n",
       "      <td>NaN</td>\n",
       "      <td>NaN</td>\n",
       "      <td>NaN</td>\n",
       "      <td>NaN</td>\n",
       "      <td>NaN</td>\n",
       "      <td>NaN</td>\n",
       "      <td>NaN</td>\n",
       "      <td>NaN</td>\n",
       "      <td>NaN</td>\n",
       "      <td>NaN</td>\n",
       "    </tr>\n",
       "    <tr>\n",
       "      <th>store_number</th>\n",
       "      <td>NaN</td>\n",
       "      <td>1.000000</td>\n",
       "      <td>NaN</td>\n",
       "      <td>-0.343348</td>\n",
       "      <td>-0.348360</td>\n",
       "      <td>-0.595265</td>\n",
       "      <td>-0.368331</td>\n",
       "      <td>-0.550851</td>\n",
       "      <td>-0.550963</td>\n",
       "      <td>-0.386319</td>\n",
       "      <td>-0.386335</td>\n",
       "    </tr>\n",
       "    <tr>\n",
       "      <th>quarter</th>\n",
       "      <td>NaN</td>\n",
       "      <td>NaN</td>\n",
       "      <td>NaN</td>\n",
       "      <td>NaN</td>\n",
       "      <td>NaN</td>\n",
       "      <td>NaN</td>\n",
       "      <td>NaN</td>\n",
       "      <td>NaN</td>\n",
       "      <td>NaN</td>\n",
       "      <td>NaN</td>\n",
       "      <td>NaN</td>\n",
       "    </tr>\n",
       "    <tr>\n",
       "      <th>first_quarter2015_sales_by_store</th>\n",
       "      <td>NaN</td>\n",
       "      <td>-0.343348</td>\n",
       "      <td>NaN</td>\n",
       "      <td>1.000000</td>\n",
       "      <td>0.981436</td>\n",
       "      <td>0.716328</td>\n",
       "      <td>0.968045</td>\n",
       "      <td>0.752130</td>\n",
       "      <td>0.752033</td>\n",
       "      <td>0.972713</td>\n",
       "      <td>0.972707</td>\n",
       "    </tr>\n",
       "    <tr>\n",
       "      <th>yearly sales by store</th>\n",
       "      <td>NaN</td>\n",
       "      <td>-0.348360</td>\n",
       "      <td>NaN</td>\n",
       "      <td>0.981436</td>\n",
       "      <td>1.000000</td>\n",
       "      <td>0.738171</td>\n",
       "      <td>0.986929</td>\n",
       "      <td>0.772349</td>\n",
       "      <td>0.772260</td>\n",
       "      <td>0.992400</td>\n",
       "      <td>0.992395</td>\n",
       "    </tr>\n",
       "    <tr>\n",
       "      <th>bottle_volume_by_year</th>\n",
       "      <td>NaN</td>\n",
       "      <td>-0.595265</td>\n",
       "      <td>NaN</td>\n",
       "      <td>0.716328</td>\n",
       "      <td>0.738171</td>\n",
       "      <td>1.000000</td>\n",
       "      <td>0.765385</td>\n",
       "      <td>0.986530</td>\n",
       "      <td>0.986578</td>\n",
       "      <td>0.755450</td>\n",
       "      <td>0.755438</td>\n",
       "    </tr>\n",
       "    <tr>\n",
       "      <th>bottles_sold_by_year</th>\n",
       "      <td>NaN</td>\n",
       "      <td>-0.368331</td>\n",
       "      <td>NaN</td>\n",
       "      <td>0.968045</td>\n",
       "      <td>0.986929</td>\n",
       "      <td>0.765385</td>\n",
       "      <td>1.000000</td>\n",
       "      <td>0.794830</td>\n",
       "      <td>0.794749</td>\n",
       "      <td>0.984342</td>\n",
       "      <td>0.984329</td>\n",
       "    </tr>\n",
       "    <tr>\n",
       "      <th>state_bottle_cost_by_year</th>\n",
       "      <td>NaN</td>\n",
       "      <td>-0.550851</td>\n",
       "      <td>NaN</td>\n",
       "      <td>0.752130</td>\n",
       "      <td>0.772349</td>\n",
       "      <td>0.986530</td>\n",
       "      <td>0.794830</td>\n",
       "      <td>1.000000</td>\n",
       "      <td>1.000000</td>\n",
       "      <td>0.775458</td>\n",
       "      <td>0.775438</td>\n",
       "    </tr>\n",
       "    <tr>\n",
       "      <th>state_retail_by_year</th>\n",
       "      <td>NaN</td>\n",
       "      <td>-0.550963</td>\n",
       "      <td>NaN</td>\n",
       "      <td>0.752033</td>\n",
       "      <td>0.772260</td>\n",
       "      <td>0.986578</td>\n",
       "      <td>0.794749</td>\n",
       "      <td>1.000000</td>\n",
       "      <td>1.000000</td>\n",
       "      <td>0.775399</td>\n",
       "      <td>0.775379</td>\n",
       "    </tr>\n",
       "    <tr>\n",
       "      <th>volume_sold_gallons_by_year</th>\n",
       "      <td>NaN</td>\n",
       "      <td>-0.386319</td>\n",
       "      <td>NaN</td>\n",
       "      <td>0.972713</td>\n",
       "      <td>0.992400</td>\n",
       "      <td>0.755450</td>\n",
       "      <td>0.984342</td>\n",
       "      <td>0.775458</td>\n",
       "      <td>0.775399</td>\n",
       "      <td>1.000000</td>\n",
       "      <td>1.000000</td>\n",
       "    </tr>\n",
       "    <tr>\n",
       "      <th>volume_sold_liters_by_year</th>\n",
       "      <td>NaN</td>\n",
       "      <td>-0.386335</td>\n",
       "      <td>NaN</td>\n",
       "      <td>0.972707</td>\n",
       "      <td>0.992395</td>\n",
       "      <td>0.755438</td>\n",
       "      <td>0.984329</td>\n",
       "      <td>0.775438</td>\n",
       "      <td>0.775379</td>\n",
       "      <td>1.000000</td>\n",
       "      <td>1.000000</td>\n",
       "    </tr>\n",
       "  </tbody>\n",
       "</table>\n",
       "</div>"
      ],
      "text/plain": [
       "                                  year  store_number  quarter  \\\n",
       "year                               NaN           NaN      NaN   \n",
       "store_number                       NaN      1.000000      NaN   \n",
       "quarter                            NaN           NaN      NaN   \n",
       "first_quarter2015_sales_by_store   NaN     -0.343348      NaN   \n",
       "yearly sales by store              NaN     -0.348360      NaN   \n",
       "bottle_volume_by_year              NaN     -0.595265      NaN   \n",
       "bottles_sold_by_year               NaN     -0.368331      NaN   \n",
       "state_bottle_cost_by_year          NaN     -0.550851      NaN   \n",
       "state_retail_by_year               NaN     -0.550963      NaN   \n",
       "volume_sold_gallons_by_year        NaN     -0.386319      NaN   \n",
       "volume_sold_liters_by_year         NaN     -0.386335      NaN   \n",
       "\n",
       "                                  first_quarter2015_sales_by_store  \\\n",
       "year                                                           NaN   \n",
       "store_number                                             -0.343348   \n",
       "quarter                                                        NaN   \n",
       "first_quarter2015_sales_by_store                          1.000000   \n",
       "yearly sales by store                                     0.981436   \n",
       "bottle_volume_by_year                                     0.716328   \n",
       "bottles_sold_by_year                                      0.968045   \n",
       "state_bottle_cost_by_year                                 0.752130   \n",
       "state_retail_by_year                                      0.752033   \n",
       "volume_sold_gallons_by_year                               0.972713   \n",
       "volume_sold_liters_by_year                                0.972707   \n",
       "\n",
       "                                  yearly sales by store  \\\n",
       "year                                                NaN   \n",
       "store_number                                  -0.348360   \n",
       "quarter                                             NaN   \n",
       "first_quarter2015_sales_by_store               0.981436   \n",
       "yearly sales by store                          1.000000   \n",
       "bottle_volume_by_year                          0.738171   \n",
       "bottles_sold_by_year                           0.986929   \n",
       "state_bottle_cost_by_year                      0.772349   \n",
       "state_retail_by_year                           0.772260   \n",
       "volume_sold_gallons_by_year                    0.992400   \n",
       "volume_sold_liters_by_year                     0.992395   \n",
       "\n",
       "                                  bottle_volume_by_year  bottles_sold_by_year  \\\n",
       "year                                                NaN                   NaN   \n",
       "store_number                                  -0.595265             -0.368331   \n",
       "quarter                                             NaN                   NaN   \n",
       "first_quarter2015_sales_by_store               0.716328              0.968045   \n",
       "yearly sales by store                          0.738171              0.986929   \n",
       "bottle_volume_by_year                          1.000000              0.765385   \n",
       "bottles_sold_by_year                           0.765385              1.000000   \n",
       "state_bottle_cost_by_year                      0.986530              0.794830   \n",
       "state_retail_by_year                           0.986578              0.794749   \n",
       "volume_sold_gallons_by_year                    0.755450              0.984342   \n",
       "volume_sold_liters_by_year                     0.755438              0.984329   \n",
       "\n",
       "                                  state_bottle_cost_by_year  \\\n",
       "year                                                    NaN   \n",
       "store_number                                      -0.550851   \n",
       "quarter                                                 NaN   \n",
       "first_quarter2015_sales_by_store                   0.752130   \n",
       "yearly sales by store                              0.772349   \n",
       "bottle_volume_by_year                              0.986530   \n",
       "bottles_sold_by_year                               0.794830   \n",
       "state_bottle_cost_by_year                          1.000000   \n",
       "state_retail_by_year                               1.000000   \n",
       "volume_sold_gallons_by_year                        0.775458   \n",
       "volume_sold_liters_by_year                         0.775438   \n",
       "\n",
       "                                  state_retail_by_year  \\\n",
       "year                                               NaN   \n",
       "store_number                                 -0.550963   \n",
       "quarter                                            NaN   \n",
       "first_quarter2015_sales_by_store              0.752033   \n",
       "yearly sales by store                         0.772260   \n",
       "bottle_volume_by_year                         0.986578   \n",
       "bottles_sold_by_year                          0.794749   \n",
       "state_bottle_cost_by_year                     1.000000   \n",
       "state_retail_by_year                          1.000000   \n",
       "volume_sold_gallons_by_year                   0.775399   \n",
       "volume_sold_liters_by_year                    0.775379   \n",
       "\n",
       "                                  volume_sold_gallons_by_year  \\\n",
       "year                                                      NaN   \n",
       "store_number                                        -0.386319   \n",
       "quarter                                                   NaN   \n",
       "first_quarter2015_sales_by_store                     0.972713   \n",
       "yearly sales by store                                0.992400   \n",
       "bottle_volume_by_year                                0.755450   \n",
       "bottles_sold_by_year                                 0.984342   \n",
       "state_bottle_cost_by_year                            0.775458   \n",
       "state_retail_by_year                                 0.775399   \n",
       "volume_sold_gallons_by_year                          1.000000   \n",
       "volume_sold_liters_by_year                           1.000000   \n",
       "\n",
       "                                  volume_sold_liters_by_year  \n",
       "year                                                     NaN  \n",
       "store_number                                       -0.386335  \n",
       "quarter                                                  NaN  \n",
       "first_quarter2015_sales_by_store                    0.972707  \n",
       "yearly sales by store                               0.992395  \n",
       "bottle_volume_by_year                               0.755438  \n",
       "bottles_sold_by_year                                0.984329  \n",
       "state_bottle_cost_by_year                           0.775438  \n",
       "state_retail_by_year                                0.775379  \n",
       "volume_sold_gallons_by_year                         1.000000  \n",
       "volume_sold_liters_by_year                          1.000000  "
      ]
     },
     "execution_count": 33,
     "metadata": {},
     "output_type": "execute_result"
    }
   ],
   "source": [
    "total_2015.corr()"
   ]
  },
  {
   "cell_type": "code",
   "execution_count": 34,
   "metadata": {
    "collapsed": false
   },
   "outputs": [
    {
     "data": {
      "text/plain": [
       "<matplotlib.text.Text at 0x1148ceb8>"
      ]
     },
     "execution_count": 34,
     "metadata": {},
     "output_type": "execute_result"
    },
    {
     "data": {
      "image/png": "[encoded data removed]",
      "text/plain": [
       "<matplotlib.figure.Figure at 0x10eca828>"
      ]
     },
     "metadata": {},
     "output_type": "display_data"
    }
   ],
   "source": [
    "f, ax = plt.subplots(figsize=(12, 9))\n",
    "sns.heatmap(total_2015.corr(), vmax=.8, square=True)\n",
    "ax.set_title('2015 Data Correlations', fontsize=16)"
   ]
  },
  {
   "cell_type": "code",
   "execution_count": 35,
   "metadata": {
    "collapsed": false
   },
   "outputs": [
    {
     "data": {
      "text/html": [
       "<div>\n",
       "<table border=\"1\" class=\"dataframe\">\n",
       "  <thead>\n",
       "    <tr style=\"text-align: right;\">\n",
       "      <th></th>\n",
       "      <th>year</th>\n",
       "      <th>store_number</th>\n",
       "      <th>quarter</th>\n",
       "      <th>first_quarter2016_sales_by_store</th>\n",
       "      <th>yearly sales by store</th>\n",
       "      <th>bottle_volume_by_year</th>\n",
       "      <th>bottles_sold_by_year</th>\n",
       "      <th>state_bottle_cost_by_year</th>\n",
       "      <th>state_retail_by_year</th>\n",
       "      <th>volume_sold_gallons_by_year</th>\n",
       "      <th>volume_sold_liters_by_year</th>\n",
       "    </tr>\n",
       "  </thead>\n",
       "  <tbody>\n",
       "    <tr>\n",
       "      <th>year</th>\n",
       "      <td>NaN</td>\n",
       "      <td>NaN</td>\n",
       "      <td>NaN</td>\n",
       "      <td>NaN</td>\n",
       "      <td>NaN</td>\n",
       "      <td>NaN</td>\n",
       "      <td>NaN</td>\n",
       "      <td>NaN</td>\n",
       "      <td>NaN</td>\n",
       "      <td>NaN</td>\n",
       "      <td>NaN</td>\n",
       "    </tr>\n",
       "    <tr>\n",
       "      <th>store_number</th>\n",
       "      <td>NaN</td>\n",
       "      <td>1.000000</td>\n",
       "      <td>NaN</td>\n",
       "      <td>-0.333205</td>\n",
       "      <td>-0.333205</td>\n",
       "      <td>-0.564926</td>\n",
       "      <td>-0.345646</td>\n",
       "      <td>-0.526165</td>\n",
       "      <td>-0.526198</td>\n",
       "      <td>-0.356086</td>\n",
       "      <td>-0.356091</td>\n",
       "    </tr>\n",
       "    <tr>\n",
       "      <th>quarter</th>\n",
       "      <td>NaN</td>\n",
       "      <td>NaN</td>\n",
       "      <td>NaN</td>\n",
       "      <td>NaN</td>\n",
       "      <td>NaN</td>\n",
       "      <td>NaN</td>\n",
       "      <td>NaN</td>\n",
       "      <td>NaN</td>\n",
       "      <td>NaN</td>\n",
       "      <td>NaN</td>\n",
       "      <td>NaN</td>\n",
       "    </tr>\n",
       "    <tr>\n",
       "      <th>first_quarter2016_sales_by_store</th>\n",
       "      <td>NaN</td>\n",
       "      <td>-0.333205</td>\n",
       "      <td>NaN</td>\n",
       "      <td>1.000000</td>\n",
       "      <td>1.000000</td>\n",
       "      <td>0.736897</td>\n",
       "      <td>0.983509</td>\n",
       "      <td>0.768774</td>\n",
       "      <td>0.768773</td>\n",
       "      <td>0.990173</td>\n",
       "      <td>0.990167</td>\n",
       "    </tr>\n",
       "    <tr>\n",
       "      <th>yearly sales by store</th>\n",
       "      <td>NaN</td>\n",
       "      <td>-0.333205</td>\n",
       "      <td>NaN</td>\n",
       "      <td>1.000000</td>\n",
       "      <td>1.000000</td>\n",
       "      <td>0.736897</td>\n",
       "      <td>0.983509</td>\n",
       "      <td>0.768774</td>\n",
       "      <td>0.768773</td>\n",
       "      <td>0.990173</td>\n",
       "      <td>0.990167</td>\n",
       "    </tr>\n",
       "    <tr>\n",
       "      <th>bottle_volume_by_year</th>\n",
       "      <td>NaN</td>\n",
       "      <td>-0.564926</td>\n",
       "      <td>NaN</td>\n",
       "      <td>0.736897</td>\n",
       "      <td>0.736897</td>\n",
       "      <td>1.000000</td>\n",
       "      <td>0.763409</td>\n",
       "      <td>0.983280</td>\n",
       "      <td>0.983311</td>\n",
       "      <td>0.747826</td>\n",
       "      <td>0.747806</td>\n",
       "    </tr>\n",
       "    <tr>\n",
       "      <th>bottles_sold_by_year</th>\n",
       "      <td>NaN</td>\n",
       "      <td>-0.345646</td>\n",
       "      <td>NaN</td>\n",
       "      <td>0.983509</td>\n",
       "      <td>0.983509</td>\n",
       "      <td>0.763409</td>\n",
       "      <td>1.000000</td>\n",
       "      <td>0.789559</td>\n",
       "      <td>0.789560</td>\n",
       "      <td>0.982477</td>\n",
       "      <td>0.982462</td>\n",
       "    </tr>\n",
       "    <tr>\n",
       "      <th>state_bottle_cost_by_year</th>\n",
       "      <td>NaN</td>\n",
       "      <td>-0.526165</td>\n",
       "      <td>NaN</td>\n",
       "      <td>0.768774</td>\n",
       "      <td>0.768774</td>\n",
       "      <td>0.983280</td>\n",
       "      <td>0.789559</td>\n",
       "      <td>1.000000</td>\n",
       "      <td>1.000000</td>\n",
       "      <td>0.763849</td>\n",
       "      <td>0.763817</td>\n",
       "    </tr>\n",
       "    <tr>\n",
       "      <th>state_retail_by_year</th>\n",
       "      <td>NaN</td>\n",
       "      <td>-0.526198</td>\n",
       "      <td>NaN</td>\n",
       "      <td>0.768773</td>\n",
       "      <td>0.768773</td>\n",
       "      <td>0.983311</td>\n",
       "      <td>0.789560</td>\n",
       "      <td>1.000000</td>\n",
       "      <td>1.000000</td>\n",
       "      <td>0.763863</td>\n",
       "      <td>0.763831</td>\n",
       "    </tr>\n",
       "    <tr>\n",
       "      <th>volume_sold_gallons_by_year</th>\n",
       "      <td>NaN</td>\n",
       "      <td>-0.356086</td>\n",
       "      <td>NaN</td>\n",
       "      <td>0.990173</td>\n",
       "      <td>0.990173</td>\n",
       "      <td>0.747826</td>\n",
       "      <td>0.982477</td>\n",
       "      <td>0.763849</td>\n",
       "      <td>0.763863</td>\n",
       "      <td>1.000000</td>\n",
       "      <td>1.000000</td>\n",
       "    </tr>\n",
       "    <tr>\n",
       "      <th>volume_sold_liters_by_year</th>\n",
       "      <td>NaN</td>\n",
       "      <td>-0.356091</td>\n",
       "      <td>NaN</td>\n",
       "      <td>0.990167</td>\n",
       "      <td>0.990167</td>\n",
       "      <td>0.747806</td>\n",
       "      <td>0.982462</td>\n",
       "      <td>0.763817</td>\n",
       "      <td>0.763831</td>\n",
       "      <td>1.000000</td>\n",
       "      <td>1.000000</td>\n",
       "    </tr>\n",
       "  </tbody>\n",
       "</table>\n",
       "</div>"
      ],
      "text/plain": [
       "                                  year  store_number  quarter  \\\n",
       "year                               NaN           NaN      NaN   \n",
       "store_number                       NaN      1.000000      NaN   \n",
       "quarter                            NaN           NaN      NaN   \n",
       "first_quarter2016_sales_by_store   NaN     -0.333205      NaN   \n",
       "yearly sales by store              NaN     -0.333205      NaN   \n",
       "bottle_volume_by_year              NaN     -0.564926      NaN   \n",
       "bottles_sold_by_year               NaN     -0.345646      NaN   \n",
       "state_bottle_cost_by_year          NaN     -0.526165      NaN   \n",
       "state_retail_by_year               NaN     -0.526198      NaN   \n",
       "volume_sold_gallons_by_year        NaN     -0.356086      NaN   \n",
       "volume_sold_liters_by_year         NaN     -0.356091      NaN   \n",
       "\n",
       "                                  first_quarter2016_sales_by_store  \\\n",
       "year                                                           NaN   \n",
       "store_number                                             -0.333205   \n",
       "quarter                                                        NaN   \n",
       "first_quarter2016_sales_by_store                          1.000000   \n",
       "yearly sales by store                                     1.000000   \n",
       "bottle_volume_by_year                                     0.736897   \n",
       "bottles_sold_by_year                                      0.983509   \n",
       "state_bottle_cost_by_year                                 0.768774   \n",
       "state_retail_by_year                                      0.768773   \n",
       "volume_sold_gallons_by_year                               0.990173   \n",
       "volume_sold_liters_by_year                                0.990167   \n",
       "\n",
       "                                  yearly sales by store  \\\n",
       "year                                                NaN   \n",
       "store_number                                  -0.333205   \n",
       "quarter                                             NaN   \n",
       "first_quarter2016_sales_by_store               1.000000   \n",
       "yearly sales by store                          1.000000   \n",
       "bottle_volume_by_year                          0.736897   \n",
       "bottles_sold_by_year                           0.983509   \n",
       "state_bottle_cost_by_year                      0.768774   \n",
       "state_retail_by_year                           0.768773   \n",
       "volume_sold_gallons_by_year                    0.990173   \n",
       "volume_sold_liters_by_year                     0.990167   \n",
       "\n",
       "                                  bottle_volume_by_year  bottles_sold_by_year  \\\n",
       "year                                                NaN                   NaN   \n",
       "store_number                                  -0.564926             -0.345646   \n",
       "quarter                                             NaN                   NaN   \n",
       "first_quarter2016_sales_by_store               0.736897              0.983509   \n",
       "yearly sales by store                          0.736897              0.983509   \n",
       "bottle_volume_by_year                          1.000000              0.763409   \n",
       "bottles_sold_by_year                           0.763409              1.000000   \n",
       "state_bottle_cost_by_year                      0.983280              0.789559   \n",
       "state_retail_by_year                           0.983311              0.789560   \n",
       "volume_sold_gallons_by_year                    0.747826              0.982477   \n",
       "volume_sold_liters_by_year                     0.747806              0.982462   \n",
       "\n",
       "                                  state_bottle_cost_by_year  \\\n",
       "year                                                    NaN   \n",
       "store_number                                      -0.526165   \n",
       "quarter                                                 NaN   \n",
       "first_quarter2016_sales_by_store                   0.768774   \n",
       "yearly sales by store                              0.768774   \n",
       "bottle_volume_by_year                              0.983280   \n",
       "bottles_sold_by_year                               0.789559   \n",
       "state_bottle_cost_by_year                          1.000000   \n",
       "state_retail_by_year                               1.000000   \n",
       "volume_sold_gallons_by_year                        0.763849   \n",
       "volume_sold_liters_by_year                         0.763817   \n",
       "\n",
       "                                  state_retail_by_year  \\\n",
       "year                                               NaN   \n",
       "store_number                                 -0.526198   \n",
       "quarter                                            NaN   \n",
       "first_quarter2016_sales_by_store              0.768773   \n",
       "yearly sales by store                         0.768773   \n",
       "bottle_volume_by_year                         0.983311   \n",
       "bottles_sold_by_year                          0.789560   \n",
       "state_bottle_cost_by_year                     1.000000   \n",
       "state_retail_by_year                          1.000000   \n",
       "volume_sold_gallons_by_year                   0.763863   \n",
       "volume_sold_liters_by_year                    0.763831   \n",
       "\n",
       "                                  volume_sold_gallons_by_year  \\\n",
       "year                                                      NaN   \n",
       "store_number                                        -0.356086   \n",
       "quarter                                                   NaN   \n",
       "first_quarter2016_sales_by_store                     0.990173   \n",
       "yearly sales by store                                0.990173   \n",
       "bottle_volume_by_year                                0.747826   \n",
       "bottles_sold_by_year                                 0.982477   \n",
       "state_bottle_cost_by_year                            0.763849   \n",
       "state_retail_by_year                                 0.763863   \n",
       "volume_sold_gallons_by_year                          1.000000   \n",
       "volume_sold_liters_by_year                           1.000000   \n",
       "\n",
       "                                  volume_sold_liters_by_year  \n",
       "year                                                     NaN  \n",
       "store_number                                       -0.356091  \n",
       "quarter                                                  NaN  \n",
       "first_quarter2016_sales_by_store                    0.990167  \n",
       "yearly sales by store                               0.990167  \n",
       "bottle_volume_by_year                               0.747806  \n",
       "bottles_sold_by_year                                0.982462  \n",
       "state_bottle_cost_by_year                           0.763817  \n",
       "state_retail_by_year                                0.763831  \n",
       "volume_sold_gallons_by_year                         1.000000  \n",
       "volume_sold_liters_by_year                          1.000000  "
      ]
     },
     "execution_count": 35,
     "metadata": {},
     "output_type": "execute_result"
    }
   ],
   "source": [
    "total_2016.corr()"
   ]
  },
  {
   "cell_type": "code",
   "execution_count": 36,
   "metadata": {
    "collapsed": false
   },
   "outputs": [
    {
     "data": {
      "text/plain": [
       "<matplotlib.text.Text at 0x114dbac8>"
      ]
     },
     "execution_count": 36,
     "metadata": {},
     "output_type": "execute_result"
    },
    {
     "data": {
      "image/png": "[encoded data removed]",
      "text/plain": [
       "<matplotlib.figure.Figure at 0x10f8b128>"
      ]
     },
     "metadata": {},
     "output_type": "display_data"
    }
   ],
   "source": [
    "f, ax = plt.subplots(figsize=(12, 9))\n",
    "sns.heatmap(total_2016.corr(), vmax=.8, square=True)\n",
    "ax.set_title('2016 Data Correlations', fontsize=16)"
   ]
  },
  {
   "cell_type": "markdown",
   "metadata": {},
   "source": [
    "All numeric columns except store_number, quarter and year are highly correlated. "
   ]
  },
  {
   "cell_type": "markdown",
   "metadata": {},
   "source": [
    "# Linear Regression Models evaluated with Root Mean Square Error"
   ]
  },
  {
   "cell_type": "markdown",
   "metadata": {},
   "source": [
    "Because of the high correlation between numeric columns, all of them except first_quarter2015_sales_by_store will be removed \n",
    "for the fit"
   ]
  },
  {
   "cell_type": "code",
   "execution_count": 37,
   "metadata": {
    "collapsed": false
   },
   "outputs": [
    {
     "name": "stdout",
     "output_type": "stream",
     "text": [
      "RMSE: 8517.75055216\n",
      "Coefficients: [ 4.3270878   0.01502355]\n"
     ]
    }
   ],
   "source": [
    "#Run a linear regression and determine the root mean squared error as well as the coefficients\n",
    "from sklearn import linear_model\n",
    "from sklearn.metrics import mean_squared_error\n",
    "\n",
    "from sklearn.cross_validation import train_test_split\n",
    "\n",
    "features = ['first_quarter2015_sales_by_store', 'bottle_volume_by_year']\n",
    "X_train, X_test, y_train, y_test = train_test_split(total_2015[features], total_2015[\"yearly sales by store\"],  random_state=0)\n",
    "\n",
    "lm = linear_model.LinearRegression(normalize=True)\n",
    "\n",
    "model = lm.fit(X_train, y_train)\n",
    "predictions_2015 = lm.predict(X_test)\n",
    "print \"RMSE:\", (mean_squared_error(y_test, predictions_2015))**0.5  #Add square root\n",
    "print 'Coefficients:', model.coef_"
   ]
  },
  {
   "cell_type": "code",
   "execution_count": 38,
   "metadata": {
    "collapsed": false
   },
   "outputs": [
    {
     "name": "stdout",
     "output_type": "stream",
     "text": [
      "Total 2016 predicted sales: 26118839.577\n"
     ]
    }
   ],
   "source": [
    "#Use the regression to predict sales\n",
    "predictions_2016 = lm.predict(total_2016[['first_quarter2016_sales_by_store', 'bottle_volume_by_year']])\n",
    "print 'Total 2016 predicted sales:', sum(predictions_2016)"
   ]
  },
  {
   "cell_type": "code",
   "execution_count": 39,
   "metadata": {
    "collapsed": false
   },
   "outputs": [
    {
     "name": "stdout",
     "output_type": "stream",
     "text": [
      "2015 total sales: 27816516.03\n"
     ]
    }
   ],
   "source": [
    "print '2015 total sales:', sum(total_2015['yearly sales by store'])"
   ]
  },
  {
   "cell_type": "code",
   "execution_count": 40,
   "metadata": {
    "collapsed": false
   },
   "outputs": [
    {
     "name": "stdout",
     "output_type": "stream",
     "text": [
      "Sales will decrease in 2016 by  1697676.45303\n"
     ]
    }
   ],
   "source": [
    "print 'Sales will decrease in 2016 by ', sum(total_2015['yearly sales by store'])-sum(predictions_2016)"
   ]
  },
  {
   "cell_type": "code",
   "execution_count": 41,
   "metadata": {
    "collapsed": false
   },
   "outputs": [
    {
     "name": "stdout",
     "output_type": "stream",
     "text": [
      "Cross-validated scores: [ 0.95517248  0.93377478  0.79584163  0.65786308  0.98912134]\n",
      "RMSE: 10143.7069637\n",
      "Coefficients: [ 4.3270878   0.01502355]\n"
     ]
    }
   ],
   "source": [
    "from sklearn.cross_validation import cross_val_score, cross_val_predict\n",
    "from sklearn import metrics\n",
    "\n",
    "# Perform 5-fold cross validation\n",
    "scores = cross_val_score(model, total_2015[features], total_2015[\"yearly sales by store\"], cv=5)\n",
    "print \"Cross-validated scores:\", scores\n",
    "# Make cross validated predictions\n",
    "preds = cross_val_predict(model, total_2015[features], total_2015[\"yearly sales by store\"], cv=5)\n",
    "print \"RMSE:\", (mean_squared_error(total_2015[\"yearly sales by store\"], preds))**0.5\n",
    "print 'Coefficients:', model.coef_"
   ]
  },
  {
   "cell_type": "code",
   "execution_count": 42,
   "metadata": {
    "collapsed": false
   },
   "outputs": [
    {
     "data": {
      "text/plain": [
       "22059.092807295816"
      ]
     },
     "execution_count": 42,
     "metadata": {},
     "output_type": "execute_result"
    }
   ],
   "source": [
    "total_2015[\"yearly sales by store\"].mean()"
   ]
  },
  {
   "cell_type": "markdown",
   "metadata": {},
   "source": [
    "## Plot"
   ]
  },
  {
   "cell_type": "code",
   "execution_count": 43,
   "metadata": {
    "collapsed": false
   },
   "outputs": [
    {
     "data": {
      "text/plain": [
       "<matplotlib.text.Text at 0x10c0bfd0>"
      ]
     },
     "execution_count": 43,
     "metadata": {},
     "output_type": "execute_result"
    },
    {
     "data": {
      "image/png": "[encoded data removed]",
      "text/plain": [
       "<matplotlib.figure.Figure at 0xd5364e0>"
      ]
     },
     "metadata": {},
     "output_type": "display_data"
    }
   ],
   "source": [
    "#Plot predicted vs actual sales\n",
    "plt.scatter(predictions_2015, y_test)\n",
    "ax = plt.gca()\n",
    "ax.set_title('Predicted 2015 Yearly Sales vs Actual', fontsize=16)\n",
    "ax.set_ylabel('Actual 2015 Yearly Sales by Store', fontsize=12)\n",
    "ax.set_xlabel('Predicted 2015 Yearly Sales by Store', fontsize=12)"
   ]
  },
  {
   "cell_type": "markdown",
   "metadata": {},
   "source": [
    "The predicted and actual values for 2015 yearly sales match fairly closely. The Q1 2015 sales are highly correlated with\n",
    "the total 2015 sales as they are, of course, a part of the total. However, putting so much emphasis on one variable may make the \n",
    "model susceptible to error due to bias."
   ]
  },
  {
   "cell_type": "markdown",
   "metadata": {},
   "source": [
    "# Regularization"
   ]
  },
  {
   "cell_type": "code",
   "execution_count": 44,
   "metadata": {
    "collapsed": false
   },
   "outputs": [
    {
     "name": "stdout",
     "output_type": "stream",
     "text": [
      "RMSE: 8552.7690532\n",
      "Coefficients: [ 4.32723572  0.01650551]\n"
     ]
    }
   ],
   "source": [
    "lm = linear_model.RidgeCV(alphas=[1])\n",
    "model = lm.fit(X_train, y_train)\n",
    "ridge_predictions_2015 = lm.predict(X_test)\n",
    "print \"RMSE:\", (mean_squared_error(ridge_predictions_2015, y_test))**0.5\n",
    "print 'Coefficients:', model.coef_"
   ]
  },
  {
   "cell_type": "code",
   "execution_count": 45,
   "metadata": {
    "collapsed": false
   },
   "outputs": [
    {
     "name": "stdout",
     "output_type": "stream",
     "text": [
      "RMSE: 8517.75057907\n",
      "Coefficients: [ 4.32708781  0.01502355]\n"
     ]
    }
   ],
   "source": [
    "lm = linear_model.LassoCV(alphas=[1])\n",
    "model = lm.fit(X_train, y_train)\n",
    "lasso_predictions_2015 = lm.predict(X_test)\n",
    "print \"RMSE:\", (mean_squared_error(lasso_predictions_2015, y_test))**0.5\n",
    "print 'Coefficients:', model.coef_"
   ]
  },
  {
   "cell_type": "markdown",
   "metadata": {
    "collapsed": true
   },
   "source": [
    "The regularized Ridge model performs worse than the regular model. The Ridge model is being flattened out too much. "
   ]
  },
  {
   "cell_type": "markdown",
   "metadata": {},
   "source": [
    "# Conclusion and Next Steps"
   ]
  },
  {
   "cell_type": "markdown",
   "metadata": {
    "collapsed": true
   },
   "source": [
    "In order to predict yearly sales by store, most useful variable available is Q1 sales by store. Most other variables are too highly correlated to be used with Q1 sales. Modeling with Q1 sales and bottle volume by year (which has a coefficient that is 2 orders of magnitude smaller) produces a root mean square error (RMSE) of 8517. \n",
    "\n",
    "Compared to the median 2015 yearly sales value of 7771, this RMSE seems high. However, compared to the mean 2015 yaerly sales value of 22059, the RMSE is better. Thus, outliers in the data are heavily skewing the model and causing higher than expected RMSE. Regularizaing the data via Lasso and Ridge do not change RMSE significantly and using cross-validation increases RMSE.\n",
    "\n",
    "The model predicts a drop of $1.6M from 2015 to 2016 total sales. This is approxiamtely a 6% drop in sales and tax revenue. Considering the high RMSE, expected tax revenue for a constant tax rate may range from 0 to a 12% drop. \n",
    "\n",
    "For further analysis:\n",
    "- Learn about causes for outlier data. Perhaps an unaccounted for variable may be found.\n",
    "- Model with catgorical variables.\n",
    "- Study how demand varies with to tax rate. \n",
    "- Model against the full data set, although we can be confident of the 10% sample is fairly representative."
   ]
  }
 ],
 "metadata": {
  "kernelspec": {
   "display_name": "Python [Root]",
   "language": "python",
   "name": "Python [Root]"
  },
  "language_info": {
   "codemirror_mode": {
    "name": "ipython",
    "version": 2
   },
   "file_extension": ".py",
   "mimetype": "text/x-python",
   "name": "python",
   "nbconvert_exporter": "python",
   "pygments_lexer": "ipython2",
   "version": "2.7.12"
  }
 },
 "nbformat": 4,
 "nbformat_minor": 0
}
